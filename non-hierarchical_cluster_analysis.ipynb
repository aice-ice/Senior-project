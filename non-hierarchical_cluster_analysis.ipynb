{
 "cells": [
  {
   "cell_type": "code",
   "execution_count": null,
   "metadata": {},
   "outputs": [],
   "source": []
  },
  {
   "cell_type": "markdown",
   "metadata": {},
   "source": [
    "# 非階層クラスタリング"
   ]
  },
  {
   "cell_type": "markdown",
   "metadata": {},
   "source": [
    "### k-meansクラスタリング\n",
    "$\\boldsymbol{x} \\in \\mathbb{R}^d$で表された$N$この事例\n",
    "$$\n",
    "D = \\{ \\boldsymbol{x}_1, \\boldsymbol{x}_2, \\ldots , \\boldsymbol{x}_N \\} = \\{\\boldsymbol{x}_i\\}^N_{i=1}\n",
    "$$\n",
    "これらを$K$このクラスタに分けたい。以降は$K$を既知として扱うが、$K$を決めるのもクラスタリングにおいて重要な課題である。\n",
    "クラスタリングを行う流れとしては、同じクラスタ内の事例の間の距離が近く、異なるクラスタの事例の間の距離が遠くなるように各事例をクラスタに割り当てる。　　\n",
    "k-means法では各クラスタ$C_k$を次のような中心ベクトル$\\boldsymbol{\\mu}_k$で代表させる。\n",
    "$$\n",
    "\\boldsymbol{\\mu}_k = \\frac{1}{|C_k|} \\sum^{}_{i \\in C_k} \\boldsymbol{x}_i\n",
    "$$\n",
    "$C_k$のまとまり具合の尺度として$C_k$に属する事例ベクトルと中心ベクトルの二乗距離(L2ノルム)を使う。\n",
    "$$\n",
    "\\sum^{}_{i \\in C_k} || \\boldsymbol{x}_i - \\mu_k ||^2\n",
    "$$\n",
    "k-means法はすべてのクラスタ$(C_1, C_2, \\ldots , C_k)$について計算し、以下の式を最小化させるような割り当てを求める。\n",
    "$$\n",
    "J = \\sum^{K}_{k=1} \\sum^{}_{i \\in C_k} || \\boldsymbol{x}_i - \\mu_k ||^2\n",
    "$$"
   ]
  },
  {
   "cell_type": "markdown",
   "metadata": {},
   "source": [
    "### Lloydのアルゴリズム\n",
    "前節で導出した目的関数を最小化させるクラスタの割り当てを求めることを考えるが、一般にこの問題はNP困難であるため、Lloydのアルゴリズムを使用して求める。\n",
    "Lloydのアルゴリズムとは以下の試行である。\n",
    "1. すべてのクラスタの中心$\\boldsymbol{\\mu}_k$を初期化する\n",
    "2. 事例$\\boldsymbol{x}$に関して最も近い$\\boldsymbol{\\mu}_k$を以下の式で求め、クラスタ$C_1, \\ldots ,C_k$を作成\n",
    "$$\n",
    "k^* = \\mathop{argmin}\\limits_{k \\in \\{1, \\ldots ,K\\}}\\|\\boldsymbol{x}_i - \\boldsymbol{\\mu}_k \\|^2\n",
    "$$\n",
    "3. すべてのクラスの中心$\\boldsymbol{\\mu}_k$を以下で計算する。\n",
    "$$\n",
    "\\boldsymbol{\\mu}_k = \\frac{1}{C_k} \\sum^{}_{i \\in C_k} \\boldsymbol{x}_i\n",
    "$$\n",
    "4. 2、3をクラスタが変化しなくなるまで繰り返す。"
   ]
  },
  {
   "cell_type": "markdown",
   "metadata": {},
   "source": [
    "### 目的関数の最小化\n",
    "k-means法における目的関数は以下のようであった。\n",
    "$$\n",
    "J = \\sum^{K}_{k=1} \\sum^{}_{i \\in C_k} \\|\\boldsymbol{x}_i - \\boldsymbol{\\mu}_k \\|^2\n",
    "$$\n",
    "データ$D = \\{\\boldsymbol{x}_i \\}^N_{i=1}$は不変なので目的関数は$C_1, \\ldots ,C_k$、$\\boldsymbol{\\mu}_1, \\ldots , \\boldsymbol{\\mu}_k$の関数である。　　\n",
    "$C_1, \\ldots ,C_k$、$\\boldsymbol{\\mu}_1, \\ldots , \\boldsymbol{\\mu}_k$を交互に更新させ、目的関数を最小化させることを考える。\n",
    "(i)$\\boldsymbol{\\mu}$を固定し、目的関数を最小にするクラスタ割り当て$C_1, \\ldots, C_k$を求める。\n",
    "$\\boldsymbol{\\mu}$が固定のとき、ある事例はいずれかのクラスタに属するので、ある事例$\\boldsymbol{x}$がほかの事例$\\boldsymbol{x}$のクラスタ割り当てに影響したり、目的関数の値を変化させてしまうこともない。  \n",
    "したがって$\\boldsymbol{x}_i$ごとに距離が最小になるクラスタ中心$\\boldsymbol{\\mu}_k$を選ぶ。\n",
    "$$\n",
    "\\mathop{argmin} \\limits_{k \\in \\{1, \\ldots ,K\\}} = \\| \\boldsymbol{x}_i - \\boldsymbol{\\mu}_k \\|^2\n",
    "$$\n",
    "(ii)クラスタ割り当て$C_1, \\ldots ,C_k$を固定して、クラスタ中心$\\boldsymbol{\\mu}$を求める。\n",
    "目的関数において書くクラスタ中心$\\boldsymbol{\\mu}_k$間に依存する関係はないので、すべての$k \\in \\mathbb N_k$に対し目的関数を最小にするクラスタ中心$\\boldsymbol{\\mu}_k$を求める。\n",
    "$$\n",
    "\\begin{align}\n",
    "\\frac{\\partial J}{\\partial \\boldsymbol{\\mu}_k} &= 0 \\notag \\\\\n",
    "-2 \\sum^{}_{i \\in C_k} (\\boldsymbol{x}_i - \\boldsymbol{\\mu}_k) &= 0 \\notag \\\\\n",
    "\\sum^{}_{i \\in C_k} \\boldsymbol{x}_i - |C_k| \\boldsymbol{\\mu}_k &= 0 \\notag \\\\\n",
    "\\boldsymbol{\\mu}_k &= \\frac{1}{C_k} \\sum^{}_{i \\in C_k} \\boldsymbol{x}_i \\notag \n",
    "\\end{align}\n",
    "$$\n",
    "\n",
    "$\\pmb{x}$"
   ]
  }
 ],
 "metadata": {
  "language_info": {
   "name": "python"
  }
 },
 "nbformat": 4,
 "nbformat_minor": 2
}
