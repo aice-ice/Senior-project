{
 "cells": [
  {
   "cell_type": "code",
   "execution_count": null,
   "metadata": {},
   "outputs": [],
   "source": []
  },
  {
   "cell_type": "markdown",
   "metadata": {},
   "source": [
    "# 非階層クラスタリング"
   ]
  },
  {
   "cell_type": "markdown",
   "metadata": {},
   "source": [
    "### k-meansクラスタリング\n",
    "$\\boldsymbol{x} \\in \\mathbb{R}^d$で表された$N$この事例\n",
    "$$\n",
    "D = \\{ \\boldsymbol{x}_1, \\boldsymbol{x}_2, \\ldots , \\boldsymbol{x}_N \\} = \\{\\boldsymbol{x}_i\\}^N_{i=1}\n",
    "$$\n",
    "これらを$K$このクラスタに分けたい。以降は$K$を既知として扱うが、$K$を決めるのもクラスタリングにおいて重要な課題である。\n",
    "クラスタリングを行う流れとしては、同じクラスタ内の事例の間の距離が近く、異なるクラスタの事例の間の距離が遠くなるように各事例をクラスタに割り当てる。　　\n",
    "k-means法では各クラスタ$C_k$を次のような中心ベクトル$\\boldsymbol{\\mu}_k$で代表させる。\n",
    "$$\n",
    "\\boldsymbol{\\mu}_k = \\frac{1}{|C_k|} \\sum^{}_{i \\in C_k} \\boldsymbol{x}_i\n",
    "$$\n",
    "$C_k$のまとまり具合の尺度として$C_k$に属する事例ベクトルと中心ベクトルの二乗距離(L2ノルム)を使う。\n",
    "$$\n",
    "\\sum^{}_{i \\in C_k} || \\boldsymbol{x}_i - \\mu_k ||^2\n",
    "$$\n",
    "k-means法はすべてのクラスタ$(C_1, C_2, \\ldots , C_k)$について計算し、以下の式を最小化させるような割り当てを求める。\n",
    "$$\n",
    "J = \\sum^{K}_{k=1} \\sum^{}_{i \\in C_k} || \\boldsymbol{x}_i - \\mu_k ||^2\n",
    "$$"
   ]
  },
  {
   "cell_type": "markdown",
   "metadata": {},
   "source": [
    "### Lloydのアルゴリズム\n",
    "前節で導出した目的関数を最小化させることを考えるが、い"
   ]
  }
 ],
 "metadata": {
  "language_info": {
   "name": "python"
  }
 },
 "nbformat": 4,
 "nbformat_minor": 2
}
