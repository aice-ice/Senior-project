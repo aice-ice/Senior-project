{
  "nbformat": 4,
  "nbformat_minor": 0,
  "metadata": {
    "colab": {
      "provenance": [],
      "toc_visible": true
    },
    "kernelspec": {
      "name": "python3",
      "display_name": "Python 3"
    },
    "language_info": {
      "name": "python"
    }
  },
  "cells": [
    {
      "cell_type": "code",
      "execution_count": null,
      "metadata": {
        "id": "T_9YO5Mluagp"
      },
      "outputs": [],
      "source": []
    },
    {
      "cell_type": "markdown",
      "source": [
        "# 回帰\n",
        "### 回帰とは\n",
        "回帰とはjoifekoijokjoidkjoehglje  \n",
        "```\n",
        "import numpy as np\n",
        "\n",
        "print(np.random.random())\n",
        "```"
      ],
      "metadata": {
        "id": "lguq6LdkubjP"
      }
    },
    {
      "cell_type": "code",
      "source": [
        "import numpy as np\n",
        "\n",
        "print(np.random.random())"
      ],
      "metadata": {
        "colab": {
          "base_uri": "https://localhost:8080/"
        },
        "id": "KeTABLUWviTB",
        "outputId": "cdc3d3bc-9531-4589-f7ba-157a0b924eeb"
      },
      "execution_count": 1,
      "outputs": [
        {
          "output_type": "stream",
          "name": "stdout",
          "text": [
            "0.4255822171840281\n"
          ]
        }
      ]
    },
    {
      "cell_type": "code",
      "source": [],
      "metadata": {
        "id": "ySmk1tmpvpIZ"
      },
      "execution_count": null,
      "outputs": []
    }
  ]
}