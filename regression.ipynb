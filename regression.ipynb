{
  "cells": [
    {
      "cell_type": "markdown",
      "metadata": {
        "id": "lguq6LdkubjP"
      },
      "source": [
        "# 回帰\n",
        "### 回帰とは\n",
        "回帰とは \n",
        "・回帰説明\n",
        "・線形回帰説明\n",
        "　　単回帰、重回帰\n",
        "・表記の注書き"
      ]
    },
    {
      "cell_type": "markdown",
      "metadata": {},
      "source": [
        "###　残差\n",
        "単回帰を実装するにあたって「残差」を導入する。\n",
        "今以下のような５つの事例を持つデータ$D$がある\n",
        "$$ \n",
        "D = \\{(x_{i}, y_{i})\\}_{i=1}^{N}= \\{(4, 15), (6, 8), (5, 17), (8, 15), (3, 1)\\} \n",
        "$$\n",
        "ここで１次関数$\\epsilon_{i}$モデル$\\hat{y} = ax + b$のa、bを$a = 2, b = 1$に設定して回帰直線を考える。\n",
        "また$\\hat{y}$は目的変数をモデルに適用し計算された予測値を表す。\n",
        "\n",
        "データ$D$の各点$(x_{i}, y_{i})$とモデルで計算される点$(x, \\hat{y})$を以下にプロットする\n",
        "<img src=\"C:\\Users\\eu21052\\Desktop\\Senior-project\\material\\residuals\\plot1.png\">\n",
        "上図は１例であるが、a、bの値を変えることで様々な回帰直線ができる。しかし、設定したa、ｂがどのくらいデータにあっているかを定量的にみる必要がある。そこで使用するのが残差である。残差とは求めた予測値と実測値とのずれを表す数値で上図では各点と直線との距離に値する。よって残差の計算式は以下のようになる。(ここでは残差を$\\epsilon$で表し、データ$D$の$i$番目の要素に対応する残差を$\t\\epsilon_{i}$としている。)\n",
        "$$ \n",
        "\\epsilon_{i} = y_{i} - \\hat{y}_{i} \n",
        "$$\n",
        "したがって以下のような計算になる\n",
        "$$\n",
        "\\left\\{ \n",
        "\\begin{array}{l}\n",
        "\\displaystyle  \\epsilon_{1} = y_{2} - \\hat{y}_{1} = 15 - 9 = 6\\\\\n",
        "\\epsilon_{2} = y_{2} - \\hat{y}_{2} = 8 - 13 = -5\\\\\n",
        "\\epsilon_{3} = y_{3} - \\hat{y}_{3} = 17 - 11 = 6\\\\ \n",
        "\\epsilon_{4} = y_{4} - \\hat{y}_{4} = 15 - 17 = -2\\\\ \n",
        "\\epsilon_{5} = y_{5} - \\hat{y}_{5} = 1 - 7 = -6\\\\ \n",
        "\\end{array} \n",
        "\\right .\n",
        "$$\n",
        "これで各事例の残差は計算できたのでデータ$D$の残差について考える。単純に各事例の残差を合計し、そこから平均をとっても、残差の正負で($\\epsilon_{1}$と$\\epsilon_{3}$のように)打ち消しあう可能性がある。また各事例の残差の絶対値をとってから平均を計算すると数学的な処理が困難になる。したがって2乗和の平均をとる**平均二乗誤差**を用いる。\n",
        "$$\n",
        " \\hat{L} = \\displaystyle \\frac{1}{N}\\sum_{n = 1}^{\\N}\\epsilon_{i} ^ 2 = \\displaystyle \\frac{1}{N}\\sum_{n = 1}^{\\N}(y_{i} - \\hat{y}_{i}) ^ 2\n",
        "$$\n",
        "データ$D$で計算すると\n",
        "$$\n",
        "\\hat{L} = \\displaystyle \\frac{1}{5}\\sum_{n = 1}^{5}\\epsilon_{i} ^ 2 = \\frac{1}{5}\\{6 ^ 2 + (-5) ^ 2 + 6 ^ 2 + (-2) ^ 2 + (-6) ^ 2\\} = 27.4\n",
        "$$ \n",
        "\n"
      ]
    },
    {
      "cell_type": "markdown",
      "metadata": {},
      "source": [
        "### 最小二乗法\n",
        "さて前節では残差の定義について扱った。"
      ]
    }
  ],
  "metadata": {
    "colab": {
      "provenance": [],
      "toc_visible": true
    },
    "kernelspec": {
      "display_name": "Python 3",
      "name": "python3"
    },
    "language_info": {
      "codemirror_mode": {
        "name": "ipython",
        "version": 3
      },
      "file_extension": ".py",
      "mimetype": "text/x-python",
      "name": "python",
      "nbconvert_exporter": "python",
      "pygments_lexer": "ipython3",
      "version": "3.12.3"
    }
  },
  "nbformat": 4,
  "nbformat_minor": 0
}
