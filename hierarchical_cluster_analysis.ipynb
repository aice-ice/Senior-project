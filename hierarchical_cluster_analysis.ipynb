{
 "cells": [
  {
   "cell_type": "markdown",
   "metadata": {},
   "source": [
    "# 階層的クラスタリング"
   ]
  },
  {
   "cell_type": "markdown",
   "metadata": {},
   "source": [
    "### 定義\n",
    "２つのクラスタ集合があるとき、そのクラスタ間距離$dist(A, B)$は、\n",
    "$$\n",
    "dist(A, B) = \\mathop{min}\\limits_{a \\in A, b \\in B} d(a, b)\n",
    "$$\n",
    "ここで、  \n",
    "$d(a,b)$：$a、b$の距離関数$D$の対応する要素で求める。  \n",
    "$D$：各要素間の距離を成分とする行列($N×N$の対象行列で対角成分は0)  \n",
    "例えば要素$i, j$を統合してクラスタを作成したとき、それ以外の要素$h$の距離は以下で求める。  \n",
    "$$\n",
    "dist[\\{i, j\\}, h] = \\mathop{min}\\limits_{a \\in \\{i, j\\}, b \\in h}d(a, b) = min\\{d(i, h) , d(j, h)\\}\n",
    "$$\n",
    "ここでクラスタ$A$と$B$を統合したクラスタを$A \\cup B$で表現すると、このクラスタ以外のクラスタ$C$との距離は、\n",
    "$$\n",
    "dist(A \\cup B, C) = min\\{dist(A, C), dist(B, C)\\}\n",
    "$$  "
   ]
  },
  {
   "cell_type": "markdown",
   "metadata": {},
   "source": [
    "### デンドログラム"
   ]
  },
  {
   "cell_type": "markdown",
   "metadata": {},
   "source": [
    "### 距離関数\n",
    "$m$次元上で定義された距離関数$d： \\mathbb{R}^m × \\mathbb{R}^m \\mapsto \\mathbb{R}$は以下を満たす。\n",
    "- $\\forall \\pmb{x}, \\pmb{y} \\in \\mathbb{R}^m：d(\\pmb{x}, \\pmb{y}) \\geqq 0$\n",
    "- $\\forall \\pmb{x}, \\pmb{y} \\in \\mathbb{R}^m：\\pmb{x} = \\pmb{y} \\Rightarrow d(\\pmb{x}, \\pmb{y}) = 0$\n",
    "- $\\forall \\pmb{x}, \\pmb{y} \\in \\mathbb{R}^m：d(\\pmb{x}, \\pmb{y}) = d(\\pmb{y}, \\pmb{x})$\n",
    "- $\\forall \\pmb{x}, \\pmb{y}, \\pmb{z} \\in \\mathbb{R}^m：d(\\pmb{x}, \\pmb{y}) + d(\\pmb{y}, \\pmb{z}) \\geqq d(\\pmb{x}, \\pmb{z})$   \n",
    "\n",
    "ベクトル$\\pmb{x}, \\pmb{y} \\in \\mathbb{R}$に対し距離関数には以下のようなものがある。  \n",
    "- ユーグリッド距離\n",
    "$$\n",
    "d(\\pmb{x}, \\pmb{y}) = \\| \\pmb{x} - \\pmb{y} \\|^2 = \\sqrt{\\sum^{m}_{i=1} (x_i - y_i)^2}\n",
    "$$\n",
    "- マンハッタン距離\n",
    "$$\n",
    "d(\\pmb{x}, \\pmb{y}) = \\| \\pmb{x} - \\pmb{y} \\| = \\sum^{m}_{i=1}| x_i - y_i |\n",
    "$$\n",
    "- コサイン類似度\n",
    "$$\n",
    "cos\\theta = \\frac{\\pmb{x} \\cdot \\pmb{y}}{\\|\\pmb{x}\\| \\|\\pmb{y}\\|}\n",
    "$$\n",
    "\n"
   ]
  },
  {
   "cell_type": "markdown",
   "metadata": {},
   "source": [
    "### 凝集型クラスタリング\n",
    "\n",
    "- #### 最短距離法（単連続法）\n",
    "$m$次元の事例ベクトル$\\pmb{x}, \\pmb{y} \\in \\mathbb{R}^m$の任意の距離関数を$d(\\pmb{x}, \\pmb{y})$とすると２つクラスタ$C_a, C_b$があるときそのクラスタ間距離関数は\n",
    "$$\n",
    "dist(C_a, C_b) = \\mathop{min} \\limits_{\\pmb{x} \\in C_a, \\pmb{y} \\in C_b} d(\\pmb{x}, \\pmb{y})\n",
    "$$\n",
    "これは$C_a, C_b$に所属する事例同氏の距離を総当たりで求めた際の最小値である。この方法はクラスタが最も近い点をけいゆうして連結していくため鎖状に連結されやすい(連鎖)。結果距離がだいぶ離れていても１つのクラスタにまとめられることがある。よってクラスタ内要素間距離の最大値が大きいくらすたが生成されることがある。\n",
    "\n",
    "- #### 最長距離砲（完全連結法）\n",
    "最短距離法の考え方を持つ手法で、２つのクラスタ$C_a, C_b$のクラスタ間距離関数は、\n",
    "$$\n",
    "dist(C_a, C_b) = \\mathop{max} \\limits_{\\pmb{x} \\in C_a, \\pmb{y} \\in C_b} d(\\pmb{x}, \\pmb{y})\n",
    "$$\n",
    "これは$C_a, C_b$に所属する事例同士の距離を総当たりで求めた際の最大値である。クラスタ内要素間距離の小さいクラスタが短い２つのクラスタを併合していく傾向にあるため、クラスタ内要素間距離の小さいクラスタが生成されやすいが、距離が近い要素同士を含む２つのクラスタがなかなか併合されないことがある。\n",
    "\n",
    "- #### 群平均法\n",
    "最短距離法と最長距離法をハイブリッドしたような手法で、２つのクラスタ$C_a, C_b$のクラスタ間距離関数は、\n",
    "$$\n",
    "dist(C_a, C_b) = \\frac{1}{|C_a||C_b|} \\sum^{}_{\\pmb{x} \\in C_a, \\pmb{y} \\in C_b} d(\\pmb{x}, \\pmb{y})\n",
    "$$\n",
    "最短距離法、最長距離法では２つのクラスタに属する事例１組の距離でクラスタ間距離を定義されていたが、この方法ではクラスタ間の全事例組の距離の平均をとる。\n",
    "\n",
    "- #### 重心法\n",
    "各クラスタを属する事例ベクトルの重心を求め、その重心間の距離をクラスタ間の距離とする。\n",
    "$$\n",
    "dist(C_a, C_b) = \\| \\pmb{\\mu}_{C_a} - \\pmb{\\mu}_{C_b} \\|\n",
    "$$\n",
    "ただし、\n",
    "$$\n",
    "\\pmb{\\mu}_{C_a} = \\frac{1}{|C_a|} \\sum^{}_{\\pmb{x} \\in C_a} \\pmb{x}、\\pmb{\\mu}_{C_b} = \\frac{1}{|C_b|} \\sum^{}_{\\pmb{y} \\in C_b} \\pmb{y}\n",
    "$$\n",
    "\n",
    "- #### ウォード法\n",
    "クラスタ間距離ではなくクラスタ内平方和に基づいた手法。まずクラスタ$C$のクラスタ内変動$V(C)$を以下で定義する。\n",
    "$$\n",
    "V(C) = \\sum^{}_{\\pmb{x} \\in C} \\|\\pmb{x} - \\pmb{\\mu_C} \\|^2 \\\\\n",
    "$$\n",
    "ただし、\n",
    "$$\n",
    "\\pmb{\\mu_C} = \\frac{1}{|C|} \\sum^{}_{\\pmb{x} \\in C} \\pmb{x}\n",
    "$$\n",
    "データが$K$個のクラスタに属しているとき、全てのクラスタ内変動の和（クラスタ内平方和）は、\n",
    "$$\n",
    "S_k = \\sum^{K}_{k=1} V(C_k) = \\sum^{K}_{k=1} \\sum^{}_{\\pmb{x} \\in C_k} \\| \\pmb{x} - \\pmb{\\mu}_C \\|^2\n",
    "$$\n",
    "これはk-meansの目的関数と同じ式だが、この手法は凝集型クラスタリングの手順でクラスタ内兵法輪の最小化することを目的としている。  \n",
    "凝集型クラスタリングでは最初に各事例が１つのクラスタに属し（このときクラスタ内平方和は0）、クラスタを併合していくにつれて平方和が上昇していく。上昇が少ないクラスタを２つ選び併合する。$C_a$と$C_b$で$C_a \\cup C_b$を作成したとき、クラスタ内平方和の上昇量$d_{C_a, C_b}$は、\n",
    "$$\n",
    "\\begin{align}\n",
    "d_{C_a, C_b} &= V(C_a \\cup C_b) - V(C_a) - V(C_b)  \\notag \\\\\n",
    "&= \\sum^{}_{\\bm{x} \\in C_{A \\cup B}} \\| \\bm{x} - \\mu_{A \\cup B} \\|^2 - \\sum^{}_{\\bm{x} \\in C_A} \\| \\bm{x} - \\mu_{C_A} \\|^2 - \\sum^{}_{\\bm{x} \\in C_B} \\| \\bm{x} - \\mu_{C_B} \\|^2 \\notag \\\\\n",
    "&= \\sum^{}_{\\bm{x} \\in C_{A}} \\| \\bm{x} - \\mu_{A \\cup B} \\|^2 + \\sum^{}_{\\bm{x} \\in C_{B}} \\| \\bm{x} - \\mu_{A \\cup B} \\|^2 - \\sum^{}_{\\bm{x} \\in C_A} \\| \\bm{x} - \\mu_{C_A} \\|^2 - \\sum^{}_{\\bm{x} \\in C_B} \\| \\bm{x} - \\mu_{C_B} \\|^2 \\notag \\\\\n",
    "&= \\sum^{}_{\\bm{x} \\in C_A} (\\| \\bm{x} - \\bm{\\mu}_{A \\cup B} \\|^2 - \\| \\bm{x} - \\bm{\\mu}_A \\|^2) - \\sum^{}_{\\bm{x} \\in C_B} (\\| \\bm{x} - \\bm{\\mu}_{A \\cup B} \\|^2 - \\| \\bm{x} - \\bm{\\mu}_B \\|^2) \\notag \\\\\n",
    "&= \\sum^{}_{\\bm{x} \\in C_A} (\\|\\bm{x}\\|^2 - 2\\bm{x} \\cdot \\bm{\\mu}_{C_{A \\cup B}} + \\|\\bm{\\mu}_{C_{A \\cup B}}\\|^2 - \\|\\bm{x}\\|^2 + 2\\bm{x} \\cdot \\bm{\\mu}_{C_A} + \\bm{\\mu}_{C_A}) - \\sum^{}_{\\bm{x} \\in B} (\\|\\bm{x}\\|^2 - 2\\bm{x} \\cdot \\bm{\\mu}_{C_{A \\cup B}} + \\|\\bm{\\mu}_{C_{A \\cup B}}\\|^2 - \\|\\bm{x}\\|^2 + 2\\bm{x} \\cdot \\bm{\\mu}_{C_B} - \\|\\bm{\\mu}_{C_B}\\|) \\notag \\\\\n",
    "&= \\sum^{}_{\\bm{x} \\in C_A} (-2\\bm{x} \\cdot \\bm{\\mu}_{C_{A \\cup B}} + \\| \\bm{\\mu}_{A \\cup B} \\|^2 + 2 \\bm{x} \\cdot \\bm{\\mu}_{C_A} - \\|\\bm{\\mu}_{C_A}\\|^2) - \\sum^{}_{\\bm{x} \\in C_B} (-2\\bm{x} \\cdot \\bm{\\mu}_{C_{A \\cup B}} + \\| \\bm{\\mu}_{A \\cup B} \\|^2 + 2 \\bm{x} \\cdot \\bm{\\mu}_{C_B} - \\|\\bm{\\mu}_{C_B}\\|^2) \\notag \\\\\n",
    "&= -2|A|\\bm{\\mu}_{C_A} \\cdot \\bm{\\mu}_{C_{A \\cup B}} + |A| \\|\\bm{\\mu}_{A \\cup B} \\|^2 + 2|A| \\bm{\\mu}_{C_A} \\cdot \\bm{\\mu}_{C_A} - |A| \\|\\bm{\\mu}_{C_A}\\|^2 - (2|B| \\bm{\\mu}_{C_B} \\cdot \\bm{\\mu}_{A \\cup B} - |B| \\|\\bm{\\mu}_{A \\cup B} \\|^2 -2|B| \\bm{\\mu}_{C_B} \\cdot \\bm{\\mu}_{C_B} + |B| \\|\\bm{\\mu}_{C_B}\\|^2) \\notag \\\\\n",
    "&= -2|A| \\bm{\\mu}_{C_A} \\cdot \\bm{\\mu}_{C_{A \\cup B}} + |A| \\|\\bm{\\mu}_{C_{A \\cup B}}\\|^2 + |A| \\|\\bm{\\mu}_{C_A}\\|^2 - (-2|B| \\bm{\\mu}_{C_B} \\cdot \\bm{\\mu}_{C_{A \\cup B}} + |B| \\|\\bm{\\mu}_{C_{A \\cup B}}\\|^2 + |B| \\|\\bm{\\mu}_{C_B}\\|^2) \\notag \\\\\n",
    "&= |A| \\|\\bm{\\mu}_{C_A} - \\bm{\\mu}_{C_{A \\cup B}}\\|^2 - |B| \\|\\bm{\\mu}_{C_B} - \\bm{\\mu}_{C_{A \\cup B}}\\|^2 \\notag \\\\\n",
    "\\end{align}\n",
    "$$\n",
    "ここで$\\bm{\\mu}_{C_{A \\cup B}}$は、\n",
    "$$\n",
    "\\begin{align} \n",
    "\\bm{\\mu}_{C_{A \\cup B}} &= \\frac{1}{|C_{A \\cup B}|} \\sum^{}_{\\bm{x} \\in C_{A \\cup B}} \\bm{x} \\notag \\\\\n",
    "&= \\frac{1}{|A| + |B|} (\\sum^{}_{\\bm{x} \\in C_A} \\bm{x} + \\sum^{}_{\\bm{x} \\in C_B} \\bm{x}) \\notag \\\\\n",
    "&= \\frac{1}{|A| + |B|} (|A| \\bm{\\mu}_{C_A} + |B| \\bm{\\mu}_{C_B}) \\notag \\\\\n",
    "\\end{align}\n",
    "$$\n",
    "なので、\n",
    "$$\n",
    "\\begin{align}\n",
    "d_{C_a, C_b} &= |A| \\|\\bm{\\mu}_{C_A} - \\bm{\\mu}_{C_{A \\cup B}}\\|^2 - |B| \\|\\bm{\\mu}_{C_B} - \\bm{\\mu}_{C_{A \\cup B}}\\|^2 \\notag \\\\\n",
    "&= |A| \\|\\bm{\\mu}_{C_A} - \\frac{1}{|A| + |B|} (|A| \\bm{\\mu}_{C_A} + |B| \\bm{\\mu}_{C_B})\\|^2 + |B| \\|\\bm{\\mu}_{C_B} - \\frac{1}{|A| + |B|} (|A| \\bm{\\mu}_{C_A} + |B| \\bm{\\mu}_{C_B})\\|^2 \\notag \\\\\n",
    "&= |A| \\|\\frac{|B|}{|A| + |B|} \\bm{\\mu}_{C_A} + \\frac{|B|}{|A| + |B|} \\bm{\\mu}_{C_B} \\|^2 - |B| \\|\\frac{|A|}{|A| + |B|} \\bm{\\mu}_{C_A} + \\frac{|A|}{|A| + |B|} \\bm{\\mu}_{C_B} \\|^2 \\notag \\\\\n",
    "&= |A| (\\frac{|B|}{|A| + |B|})^2 \\|\\bm{\\mu}_{C_A} + \\bm{\\mu}_{C_B}\\|^2 - |B| (\\frac{|A|}{|A| + |B|})^2 \\|\\bm{\\mu}_{C_A} + \\bm{\\mu}_{C_B}\\|^2 \\notag \\\\\n",
    "&= \\frac{|A||B|}{|A| + |B|} \\|\\bm{\\mu}_{C_A} + \\bm{\\mu}_{C_B}\\|^2 \\notag \\\\\n",
    "\\end{align}\n",
    "$$\n",
    "ウォード法はこの上昇量$d$が最小となるクラスタ同氏を併合させる。クラスタ間距離をユークリッド距離に相当させる場合、クラスタ間距離は以下となる。\n",
    "$$\n",
    "dist(C_a, C_b) = \\sqrt{2d(C_a, C_b)} = \\sqrt{\\frac{2|C_a||C_b|}{|C_a||C_b|}\\|\\bm{\\mu}_{C_a} - \\bm{\\mu}_{C_b}\\|^2}\n",
    "$$\n"
   ]
  },
  {
   "cell_type": "code",
   "execution_count": null,
   "metadata": {
    "vscode": {
     "languageId": "plaintext"
    }
   },
   "outputs": [],
   "source": []
  }
 ],
 "metadata": {
  "language_info": {
   "name": "python"
  }
 },
 "nbformat": 4,
 "nbformat_minor": 2
}
