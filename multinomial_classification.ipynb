{
 "cells": [
  {
   "cell_type": "code",
   "execution_count": null,
   "metadata": {},
   "outputs": [],
   "source": [
    "\n",
    "\n",
    "\n",
    "\n",
    "\n"
   ]
  },
  {
   "cell_type": "markdown",
   "metadata": {},
   "source": [
    "# 多クラス分類\n",
    "前章では２つのグループに分けることを考えたが、この章では３つ以上のグループに分けることを考える。"
   ]
  },
  {
   "cell_type": "markdown",
   "metadata": {},
   "source": [
    "### ラベル推定式\n",
    "$d$次元の特徴ベクトル$\\boldsymbol{x}$が与えられているとき、分類の候補になる$K$個のクラスの集合$\\mathcal{Y}=\\{\\mathcal{C}_{1}, \\mathcal{C}_{2}, \\cdots , \\mathcal{C}_{K}\\}$   wokangaeru \n",
    "\n",
    "線形多クラス分類では各カテゴリを$\\hat{y} \\in \\mathcal{Y}$に重みベクトル$\\boldsymbol{w}_{y} \\in \\mathbb R ^ d$を用意し、事例$\\boldsymbol{x} \\in \\mathbb R ^ d$と重みベクトル$\\boldsymbol{w}_{y}$との内積を計算し、最も高い内積値が計算されたカテゴリ$y \\in \\mathcal{Y}$に分類する。\n",
    "よって多クラス分類のラベル推定式は以下のようになる。\n",
    "$$\n",
    "\\hat{y} = \\argmax_{y \\in \\mathcal{Y}}^t\\!\\boldsymbol{w}_y\\boldsymbol{x}\n",
    "$$"
   ]
  },
  {
   "cell_type": "markdown",
   "metadata": {},
   "source": []
  }
 ],
 "metadata": {
  "language_info": {
   "name": "python"
  }
 },
 "nbformat": 4,
 "nbformat_minor": 2
}
