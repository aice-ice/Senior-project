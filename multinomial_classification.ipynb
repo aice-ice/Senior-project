{
 "cells": [
  {
   "cell_type": "code",
   "execution_count": null,
   "metadata": {},
   "outputs": [],
   "source": [
    "\n",
    "\n",
    "\n",
    "\n",
    "\n"
   ]
  },
  {
   "cell_type": "markdown",
   "metadata": {},
   "source": [
    "# 多クラス分類\n",
    "前章では２つのグループに分けることを考えたが、この章では３つ以上のグループに分けることを考える。"
   ]
  },
  {
   "cell_type": "markdown",
   "metadata": {},
   "source": [
    "### ラベル推定式\n",
    "$d$次元の特徴ベクトル$\\boldsymbol{x}$が与えられているとき、分類の候補になる$K$個のクラスの集合$\\mathcal{Y}=\\{\\mathcal{C}_{1}, \\mathcal{C}_{2}, \\cdots , \\mathcal{C}_{K}\\}$   wokangaeru \n",
    "\n",
    "線形多クラス分類では各カテゴリを$\\hat{y} \\in \\mathcal{Y}$に重みベクトル$\\boldsymbol{w}_{y} \\in \\mathbb R ^ d$を用意し、事例$\\boldsymbol{x} \\in \\mathbb R ^ d$と重みベクトル$\\boldsymbol{w}_{y}$との内積を計算し、最も高い内積値が計算されたカテゴリ$y \\in \\mathcal{Y}$に分類する。\n",
    "よって多クラス分類のラベル推定式は以下のようになる。\n",
    "$$\n",
    "\\hat{y} = \\argmax_{y \\in \\mathcal{Y}}\\boldsymbol{w}_y^\\top\\boldsymbol{x}\n",
    "$$"
   ]
  },
  {
   "cell_type": "markdown",
   "metadata": {},
   "source": [
    "### 多クラスロジスティック回\n",
    "線形多クラス分類を実現するモデルの一つで事例$\\boldsymbol{x}$をクラス$\\mathcal{C}$に分類する条件付確率$P(\\hat{y}=\\mathcal{C}_j | \\boldsymbol{x})$を以下のように求める。\n",
    "$$\n",
    "P(\\hat{y}=\\mathcal{C}_j | \\boldsymbol{x}) = \\frac{e^{\\boldsymbol{w}_j^\\top\\boldsymbol{x}}}{\\displaystyle \\sum^{K}_{k=1}e^{\\boldsymbol{w}_k^\\top\\boldsymbol{x}}}\n",
    "$$\n",
    "$a_j = \\boldsymbol{w}_j^\\top \\boldsymbol{x}$と置くと上式は\n",
    "$$\n",
    "P(\\hat{y}=\\mathcal{C}_j | \\boldsymbol{x}) = \\frac{e^{a_j}}{\\displaystyle \\sum^{K}_{k=1}e^{a_k}}\n",
    "$$\n",
    "となり、この式はソフトマックス関数の形をしているため$\\sigma$をソフトマックス関数とすると以下のように置く。\n",
    "$$\n",
    "\\sigma(\\boldsymbol{a})_j = P(\\hat{y}=\\mathcal{C}_j|\\boldsymbol{x}) = \\frac{e^{a_j}}{\\displaystyle \\sum^{K}_{k=1}e^{a_k}} \n",
    "$$\n",
    "ここで、\\boldsymbol{a}は\n",
    "$$\n",
    "\\left(\\begin{array}{rrcr}\n",
    "\\boldsymbol{w}_1^\\top\\boldsymbol{x} \\\\\n",
    "\\boldsymbol{w}_1^\\top\\boldsymbol{x} \\\\\n",
    "\\boldsymbol{w}_1^\\top\\boldsymbol{x} \\\\\n",
    "\\vdots \\\\\n",
    "\\boldsymbol{w}_1^\\top\\boldsymbol{x}\n",
    "\\end{array} \\right )\n",
    "$$\n",
    "\n",
    "$\\sigma(\\boldsymbol{a})_j$は"
   ]
  }
 ],
 "metadata": {
  "language_info": {
   "name": "python"
  }
 },
 "nbformat": 4,
 "nbformat_minor": 2
}
