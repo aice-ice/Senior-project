{
 "cells": [
  {
   "cell_type": "markdown",
   "metadata": {},
   "source": [
    "# 重回帰\n",
    "### 重回帰とは\n",
    "前章では説明変数が１次の単回帰について取り扱った。しかし説明変数が１次、つまり直線$y=ax+b$へのフィッティングでは十分な回帰性能を得られない可能性がある。そこで本章では説明変数を２つ以上に増やし分析を行う。この方法を単回帰と区別して**重回帰**と呼ぶ。"
   ]
  },
  {
   "cell_type": "markdown",
   "metadata": {},
   "source": [
    "# 重回帰モデル\n",
    "重回帰で用いるモデルは一般に以下のような多項式である。\n",
    "$$\n",
    "\\hat{y} = w_{0} + w_{1}x + w_{2}x^{2} + w_{3}x^{3} + \\cdots + w_{d}x^{d}\n",
    "$$\n",
    "また、$w_{0}, w_{1}, w_{2}, w_{3}, \\cdots , w_{d}$はモデルの**重み**で、この値を求めいていくことになる。\n",
    "ここで式をより扱いやすくするために以下のように各パラメータをベクトルで表現する。\n",
    "$d$個の説明変数を並べた説明変数ベクトル$\\bm{x}$は\n",
    "$$\n",
    "\\begin{gather}\n",
    "    \\bm{x} = \\begin{pmatrix} \n",
    "        x_{1}\\\\ \n",
    "        \\vdots \\\\ \n",
    "        x_{d} \\\\ \n",
    "        \\notag \n",
    "        \\end{pmatrix}\n",
    "\\end{gather}\n",
    "$$\n",
    "重みも同様にして  \n",
    "$$\n",
    "\\begin{gather}\n",
    "    \\bm{w} = \\begin{pmatrix}\n",
    "        w_{1}\\\\\n",
    "        \\vdots \\\\\n",
    "        w_{d} \\\\\n",
    "        \\notag\n",
    "        \\end{pmatrix}\n",
    "\\end{gather}\n",
    "$$\n",
    "また予測値$y_{i}$をN個並べた目的変数ベクトル$\\bm{\\hat{y}}$は\n",
    "$$\n",
    "\\begin{gather}\n",
    "    \\bm{\\bm{\\hat{y}}} = \n",
    "        \\begin{pmatrix}\n",
    "        y_{1}\\\\\n",
    "        \\vdots \\\\\n",
    "        y_{\\tiny N} \\\\\n",
    "        \\notag\n",
    "        \\end{pmatrix}\n",
    "\\end{gather}\n",
    "$$\n",
    "\n",
    "$$\n",
    "\\begin{gather}\n",
    "    \\bm{x} = \n",
    "        \\begin{pmatrix}\n",
    "        x_{1}\\\\\n",
    "        \\vdots \\\\\n",
    "        x_{d} \\\\\n",
    "        \\notag\n",
    "        \\end{pmatrix}\n",
    "\\end{gather}\n",
    "$$"
   ]
  },
  {
   "cell_type": "markdown",
   "metadata": {},
   "source": []
  }
 ],
 "metadata": {
  "kernelspec": {
   "display_name": "Python 3",
   "language": "python",
   "name": "python3"
  },
  "language_info": {
   "codemirror_mode": {
    "name": "ipython",
    "version": 3
   },
   "file_extension": ".py",
   "mimetype": "text/x-python",
   "name": "python",
   "nbconvert_exporter": "python",
   "pygments_lexer": "ipython3",
   "version": "3.12.3"
  }
 },
 "nbformat": 4,
 "nbformat_minor": 2
}
