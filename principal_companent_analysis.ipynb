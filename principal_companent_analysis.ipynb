{
 "cells": [
  {
   "cell_type": "code",
   "execution_count": 2,
   "metadata": {},
   "outputs": [],
   "source": [
    "import numpy as np\n",
    "import matplotlib.pyplot as plt"
   ]
  },
  {
   "cell_type": "markdown",
   "metadata": {},
   "source": [
    "### 主成分分析\n",
    "取得したデータが２次元とは限らず、２次元座標系にプロットできるとは限らない。主成分分析とはこのようなときにデータの次元を圧縮する手法である。  \n",
    "主成分分析は元データの情報をできるだけ保持しながら元の特徴量の線形結合で表せる軸を導く"
   ]
  },
  {
   "cell_type": "markdown",
   "metadata": {},
   "source": [
    "データの各点$(x_i, y_i) \\in \\mathbb{R}^2$を$xy$平面上の原点を通る直線に射影し、その直線上$(\\hat{x}_i, \\hat{y}_i)$で近似することを考える。この直線は単位ベクトル$\\bm{u} \\in \\mathbb{R}^2$と媒介変数$a \\in \\mathbb{R}$を用いて以下の式で表せる。\n",
    "$$\n",
    "\\begin{pmatrix}\n",
    "\\hat{x}_i \\\\ \\hat{y}_i\n",
    "\\end{pmatrix}\n",
    "= a_i \\bm{u}\n",
    "$$\n",
    "また$|a_i|$は1$(x_i, y_i)$の原点からの距離を示す。  \n",
    "ここで$y = \\frac{1}{2} x$を例に考える。$\\|\\bm{u}\\|^2=1$より、\n",
    "$$\n",
    "\\bm{u} = \\frac{1}{\\sqrt{2^2 + 1^2}}\n",
    "\\begin{pmatrix}\n",
    "2 \\\\ 1\n",
    "\\end{pmatrix}\n",
    "= \\begin{pmatrix}\n",
    "\\frac{2}{\\sqrt{5}} \\\\ \\frac{1}{\\sqrt{5}}\n",
    "\\end{pmatrix}\n",
    "$$\n",
    "$(x_i, y_i)$を$\\bm{u}$に射影したとき、$a_i$は、\n",
    "$$\n",
    "\\begin{align}\n",
    "    a_i &= \\left \\|\n",
    "    \\begin{pmatrix}\n",
    "        x_i \\\\ y_i \n",
    "    \\end{pmatrix}\n",
    "    \\right \\| cos \\theta \\notag \\\\\n",
    "    &= \\left \\|\n",
    "    \\begin{pmatrix}\n",
    "        x_i \\\\ y_i\n",
    "    \\end{pmatrix}\n",
    "    \\right \\| \\frac{\n",
    "        \\begin{pmatrix}\n",
    "            x_i \\\\ y_i\n",
    "        \\end{pmatrix}\n",
    "        ^\\top \\bm{u}\n",
    "    }\n",
    "    {\n",
    "        \\left \\|\n",
    "        \\begin{pmatrix}\n",
    "            x_i \\\\ y_i\n",
    "        \\end{pmatrix}\n",
    "        \\right \\| \\| \\bm{u} \\|\n",
    "    } \\notag \\\\\n",
    "    &= \\begin{pmatrix}\n",
    "        x_i \\\\ y_i\n",
    "    \\end{pmatrix}\n",
    "    ^\\top \\bm{u} \\notag \\\\\n",
    "\\end{align}\n",
    "$$\n",
    "ただし、$\\theta$は$(x_i, y_i)$と$\\bm{u}$のなす角\n",
    "よって、\n",
    "$$\n",
    "a_i = (-7 \\quad 2)\\begin{pmatrix}\n",
    "    \\frac{2}{\\sqrt{5}} \\\\ \\frac{1}{\\sqrt{5}}\n",
    "\\end{pmatrix}\n",
    "$$"
   ]
  },
  {
   "cell_type": "markdown",
   "metadata": {},
   "source": [
    "### 残差\n",
    "近似の良さを定量化するために残差$\\epsilon$を導入する。回帰の場合は回帰曲線（直線）とデータの$y$座標の距離を残差としていたが、主成分分析の場合は直線とデータとの距離を残差と定義する。"
   ]
  },
  {
   "cell_type": "code",
   "execution_count": null,
   "metadata": {},
   "outputs": [
    {
     "data": {
      "image/png": "[encoded data removed]",
      "text/plain": [
       "<Figure size 800x500 with 1 Axes>"
      ]
     },
     "metadata": {},
     "output_type": "display_data"
    }
   ],
   "source": [
    "#@title 残差の描画\n",
    "\n",
    "data = np.array([[4, 15], [6, 5], [5, 17], [8, 15], [3, 1]])\n",
    "\n",
    "x = np.arange(0, 10, 0.1)\n",
    "y = 1.5 * x \n",
    "\n",
    "fig = plt.figure(figsize=(8, 5))\n",
    "ax = fig.add_subplot(111)\n",
    "\n",
    "plt.rcParams['mathtext.fontset'] = 'cm'\n",
    "\n",
    "# ax.plot(x, y)\n",
    "ax.scatter(data[:, 0], data[:, 1], color='r')\n",
    "for i, x in enumerate(data[:, 0]):\n",
    "    hx = (1.5 * data[i, 1] + data[i, 0]) / (1.5 ** 2 + 1)\n",
    "    hy = 1.5 * (1.5 * data[i, 1] + data[i, 0]) / (1.5 ** 2 + 1)\n",
    "    \n",
    "    y_p = -1.5 * x + data[i, 1] + 1.5 * data[i, 0]\n",
    "    \n",
    "    ax.plot(x, y_p, color='r', linestyle='--')    \n",
    "    \n",
    "    \n",
    "    \n",
    "    \n",
    "    "
   ]
  }
 ],
 "metadata": {
  "kernelspec": {
   "display_name": "Python 3",
   "language": "python",
   "name": "python3"
  },
  "language_info": {
   "codemirror_mode": {
    "name": "ipython",
    "version": 3
   },
   "file_extension": ".py",
   "mimetype": "text/x-python",
   "name": "python",
   "nbconvert_exporter": "python",
   "pygments_lexer": "ipython3",
   "version": "3.12.3"
  }
 },
 "nbformat": 4,
 "nbformat_minor": 2
}
