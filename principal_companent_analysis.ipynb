{
 "cells": [
  {
   "cell_type": "markdown",
   "metadata": {},
   "source": [
    "### 主成分分析\n",
    "取得したデータが２次元とは限らず、２次元座標系にプロットできるとは限らない。主成分分析とはこのようなときにデータの次元を圧縮する手法である。  \n",
    "主成分分析は元データの情報をできるだけ保持しながら元の特徴量の線形結合で表せる軸を導く"
   ]
  },
  {
   "cell_type": "markdown",
   "metadata": {},
   "source": [
    "データの各点$(x_i, y_i) \\in \\mathbb{R}^2$を$xy$平面上の原点を通る直線に射影し、その直線上$(\\hat{x}_i, \\hat{y}_i)$で近似することを考える。この直線は単位ベクトル$\\bm{u} \\in \\mathbb{R}^2$と媒介変数$a \\in \\mathbb{R}$を用いて以下の式で表せる。\n",
    "$$\n",
    "\\begin{pmatrix}\n",
    "\\hat{x}_i \\\\ \\hat{y}_i\n",
    "\\end{pmatrix}\n",
    "= a_i \\bm{u}\n",
    "$$\n",
    "また$|a_i|$は1$(x_i, y_i)$の原点からの距離を示す。  \n",
    "ここで$y = \\frac{1}{2} x$を例に"
   ]
  }
 ],
 "metadata": {
  "language_info": {
   "name": "python"
  }
 },
 "nbformat": 4,
 "nbformat_minor": 2
}
