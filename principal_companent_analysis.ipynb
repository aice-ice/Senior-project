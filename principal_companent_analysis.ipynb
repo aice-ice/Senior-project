{
 "cells": [
  {
   "cell_type": "code",
   "execution_count": 2,
   "metadata": {},
   "outputs": [],
   "source": [
    "import numpy as np\n",
    "import matplotlib.pyplot as plt"
   ]
  },
  {
   "cell_type": "markdown",
   "metadata": {},
   "source": [
    "### 主成分分析\n",
    "取得したデータが２次元とは限らず、２次元座標系にプロットできるとは限らない。主成分分析とはこのようなときにデータの次元を圧縮する手法である。  \n",
    "主成分分析は元データの情報をできるだけ保持しながら元の特徴量の線形結合で表せる軸を導く"
   ]
  },
  {
   "cell_type": "markdown",
   "metadata": {},
   "source": [
    "データの各点$(x_i, y_i) \\in \\mathbb{R}^2$を$xy$平面上の原点を通る直線に射影し、その直線上$(\\hat{x}_i, \\hat{y}_i)$で近似することを考える。この直線は単位ベクトル$\\bm{u} \\in \\mathbb{R}^2$と媒介変数$a \\in \\mathbb{R}$を用いて以下の式で表せる。\n",
    "$$\n",
    "\\begin{pmatrix}\n",
    "\\hat{x}_i \\\\ \\hat{y}_i\n",
    "\\end{pmatrix}\n",
    "= a_i \\bm{u}\n",
    "$$\n",
    "また$|a_i|$は1$(x_i, y_i)$の原点からの距離を示す。  \n",
    "ここで$y = \\frac{1}{2} x$を例に考える。$\\|\\bm{u}\\|^2=1$より、\n",
    "$$\n",
    "\\bm{u} = \\frac{1}{\\sqrt{2^2 + 1^2}}\n",
    "\\begin{pmatrix}\n",
    "2 \\\\ 1\n",
    "\\end{pmatrix}\n",
    "= \\begin{pmatrix}\n",
    "\\frac{2}{\\sqrt{5}} \\\\ \\frac{1}{\\sqrt{5}}\n",
    "\\end{pmatrix}\n",
    "$$\n",
    "$(x_i, y_i)$を$\\bm{u}$に射影したとき、$a_i$は、\n",
    "$$\n",
    "\\begin{align}\n",
    "    a_i &= \\left \\|\n",
    "    \\begin{pmatrix}\n",
    "        x_i \\\\ y_i \n",
    "    \\end{pmatrix}\n",
    "    \\right \\| cos \\theta \\notag \\\\\n",
    "    &= \\left \\|\n",
    "    \\begin{pmatrix}\n",
    "        x_i \\\\ y_i\n",
    "    \\end{pmatrix}\n",
    "    \\right \\| \\frac{\n",
    "        \\begin{pmatrix}\n",
    "            x_i \\\\ y_i\n",
    "        \\end{pmatrix}\n",
    "        ^\\top \\bm{u}\n",
    "    }\n",
    "    {\n",
    "        \\left \\|\n",
    "        \\begin{pmatrix}\n",
    "            x_i \\\\ y_i\n",
    "        \\end{pmatrix}\n",
    "        \\right \\| \\| \\bm{u} \\|\n",
    "    } \\notag \\\\\n",
    "    &= \\begin{pmatrix}\n",
    "        x_i \\\\ y_i\n",
    "    \\end{pmatrix}\n",
    "    ^\\top \\bm{u} \\notag \\\\\n",
    "\\end{align}\n",
    "$$\n",
    "ただし、$\\theta$は$(x_i, y_i)$と$\\bm{u}$のなす角\n",
    "よって、\n",
    "$$\n",
    "a_i = (-7 \\quad 2)\\begin{pmatrix}\n",
    "    \\frac{2}{\\sqrt{5}} \\\\ \\frac{1}{\\sqrt{5}}\n",
    "\\end{pmatrix}\n",
    "$$\n"
   ]
  },
  {
   "cell_type": "markdown",
   "metadata": {},
   "source": [
    "### 残差\n",
    "近似の良さを定量化するために残差$\\epsilon$を導入する。回帰の場合は回帰曲線（直線）とデータの$y$座標の距離を残差としていたが、主成分分析の場合は直線とデータとの距離を残差と定義する。"
   ]
  },
  {
   "cell_type": "code",
   "execution_count": 18,
   "metadata": {},
   "outputs": [
    {
     "data": {
      "text/plain": [
       "(0.52, 11.08, -0.010000000000000009, 22.21)"
      ]
     },
     "execution_count": 18,
     "metadata": {},
     "output_type": "execute_result"
    },
    {
     "data": {
      "image/png": "[encoded data removed]",
      "text/plain": [
       "<Figure size 600x600 with 1 Axes>"
      ]
     },
     "metadata": {},
     "output_type": "display_data"
    }
   ],
   "source": [
    "#@title 残差の描画\n",
    "\n",
    "data = np.array([[4, 15], [6, 5], [5, 17], [8, 15], [3, 1]])\n",
    "\n",
    "x = np.arange(0, 10, 0.1)\n",
    "y1 = 2 * x\n",
    "\n",
    "La = 2\n",
    "Lb = 0\n",
    "\n",
    "ax = np.array(data[:, 0])\n",
    "ay = np.array(data[:, 1])\n",
    "hx = (La*(ay-Lb)+ax)/(La**2+1)\n",
    "hy = La*(La*(ay-Lb)+ax)/(La**2+1)+Lb\n",
    "\n",
    "if ax.all() > hx.all():\n",
    "    Lx_max = ax + abs(ax - hx) / 1\n",
    "    Lx_min = hx - abs(ax - hx) / 1\n",
    "else:\n",
    "    Lx_max = hx + abs(ax - hx) / 1\n",
    "    Lx_min = ax - abs(ax - hx) / 1\n",
    "\n",
    "Lx = np.array([Lx_min, Lx_max])\n",
    "Ly = La * Lx + Lb\n",
    "# fig = plt.figure(figsize=(8, 8))\n",
    "\n",
    "\n",
    "# plt.rcParams['mathtext.fontset'] = 'cm'\n",
    "\n",
    "# ax.plot(x, y1)\n",
    "\n",
    "fig = plt.figure(figsize=(6, 6))\n",
    "a = fig.add_subplot(111)\n",
    "a.set_xlim(0, 18)\n",
    "a.set_ylim(-2, 18)\n",
    "plt.plot(Lx, Ly, color='blue') # 直線Lプロット\n",
    "plt.scatter(ax, ay, color='red') # 点Aプロット\n",
    "plt.plot([ax, hx],[ay, hy], color='green', linestyle='--', zorder=0) # 垂線プロット（点A-点H）\n",
    "plt.axis('scaled') # 垂直に見えるようにスケール調整\n",
    "\n",
    "# ax.scatter(data[:, 0], data[:, 1], color='r')\n",
    "# for i, m in enumerate(data[:, 0]):\n",
    "#     hx = (1.5 * data[i, 1] + data[i, 0]) / (1.5 ** 2 + 1)\n",
    "#     hy = 1.5 * (1.5 * data[i, 1] + data[i, 0]) / (1.5 ** 2 + 1)\n",
    "    \n",
    "#     y_p = -2 * x + data[i, 1] + 2 * data[i, 0]\n",
    "    \n",
    "#     ax.plot(x, y_p, color='r', linestyle='--')    \n",
    "#     # print(y_p)\n",
    "    \n",
    "    \n",
    "# plt.plot([ax, hx],[ay, hy], color='green', linestyle='--', zorder=0) \n"
   ]
  },
  {
   "cell_type": "markdown",
   "metadata": {},
   "source": [
    "上図より、\n",
    "$$\n",
    "x_i^2 + y_i^2 = a_i^2 + \\epsilon_i^2\n",
    "$$\n",
    "今までは$\\bm{u}$を固定して考えていたが、この$\\epsilon$を考慮したうえでこのベクトルを検討したい。 残差$\\epsilon$は以下で定義する。\n",
    "$$\n",
    "\\epsilon = \\sqrt{(x - \\hat{x})^2 - (y - \\hat{y})^2}\n",
    "$$\n",
    "回帰同様に二乗残差で評価するので、\n",
    "$$\n",
    "\\sum^{}_{i} \\epsilon^2 \n",
    "$$\n",
    "またN個のデータに対して以下が成り立つ。\n",
    "$$\n",
    "\\sum^{N}_{i=1} (a_i^2 + \\epsilon_i^2) = \\sum^{N}_{i=1} (x_i^2 + y_i^2)\n",
    "$$\n",
    "よって$\\sum\\limits^{N}_{i=1} \\epsilon_i^2$が最小のとき$\\sum\\limits^{N}_{i=1} a_i^2$は最大となるので求める単位ベクトル$\\bm{u}$は、\n",
    "$$\n",
    "\\begin{align}\n",
    "\\bm{u} &= \\mathop{argmin}\\limits_{\\|\\bm{u}\\|=1} \\sum\\limits^{N}_{i=1} \\epsilon_i^2 \\notag \\\\\n",
    "&= \\mathop{argmin}\\limits_{\\|\\bm{u}\\|=1} \\sum^{N}_{i=1} (x_i^2 + y_i^2) - \\sum^{N}_{i=1} a_i^2 \\notag \\\\\n",
    "&= \\mathop{argmax}\\limits_{\\|\\bm{u}\\|=1} \\sum^{N}_{i=1} a_i^2 \\notag \n",
    "\\end{align}\n",
    "$$\n",
    "データの重心が原点のとき$a_i$の和も0なので、\n",
    "$$\n",
    "\\sum^{N}_{i=1} a_i = \\sum^{N}_{i=1} \n",
    "\\begin{pmatrix}\n",
    "    x_i \\\\ y_i\n",
    "\\end{pmatrix}\n",
    "^\\top \\bm{u}\n",
    "= 0 \\\\\n",
    "\\therefore \\frac{1}{N} \\sum^{N}_{i=1} a_i^2 = 0 \\\\\n",
    "\\therefore Var[\\bm{a}] = \\frac{1}{N} \\sum^{N}_{i=1} (a_i - \\bar{a})^2 = \\frac{1}{N} \\sum^{N}_{i=1} a_i^2 \\\\\n",
    "\\therefore \\bm{u} = \\mathop{argmax}\\limits_{\\|\\bm{u}\\|=1} Var[\\bm{a}]\n",
    "$$\n",
    "よって、$\\sum\\limits^{N}_{i=1} \\epsilon_i^2$を最小にすることは射影された点の分散を最大化させることと等価である。"
   ]
  },
  {
   "cell_type": "markdown",
   "metadata": {},
   "source": [
    "### 第１主成分\n",
    "目的関数$J$は\n",
    "$$\n",
    "\\begin{align}\n",
    "J = \\sum^{N}_{i=1} a_i^2 \\notag \\\\\n",
    "&= \\sum^{N}_{i=1} (a_1, a_2, \\cdots, a_N)\n",
    "\\begin{pmatrix}\n",
    "a_i \\\\ \\\n",
    "\\end{pmatrix}\n",
    "\\end{align}\n",
    "$$"
   ]
  }
 ],
 "metadata": {
  "kernelspec": {
   "display_name": "Python 3",
   "language": "python",
   "name": "python3"
  },
  "language_info": {
   "codemirror_mode": {
    "name": "ipython",
    "version": 3
   },
   "file_extension": ".py",
   "mimetype": "text/x-python",
   "name": "python",
   "nbconvert_exporter": "python",
   "pygments_lexer": "ipython3",
   "version": "3.12.0"
  }
 },
 "nbformat": 4,
 "nbformat_minor": 2
}
