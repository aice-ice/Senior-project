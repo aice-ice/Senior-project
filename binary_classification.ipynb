{
 "cells": [
  {
   "cell_type": "code",
   "execution_count": 3,
   "metadata": {},
   "outputs": [],
   "source": [
    "import numpy as np\n",
    "import matplotlib.pyplot as plt"
   ]
  },
  {
   "cell_type": "markdown",
   "metadata": {},
   "source": [
    "## 2値分類  \n",
    "この章からは主に**分類**について扱っていく。前章までの回帰は連続した値を予測していたのに対し、分類はデータをあらかじめ決めておいたグループのどれにそれが属するかを予測する。この章で扱う2値分類はこのグループが2つのもので、例を挙げると、その人のアンケート結果からその人が男か女かを予測したり、受信したメールが迷惑メールかそうでないかを予測することがあげられる。"
   ]
  },
  {
   "cell_type": "markdown",
   "metadata": {},
   "source": [
    "$d$次元の特徴ベクトルの事例$\\boldsymbol{x}$が与えられたとき、線形モデルのパラメータ$\\boldsymbol{w}$との内積を計算し、その正負でラベル$\\hat{y}$を予測する。\n",
    "線形2値分類のラベル推定式は以下のようになる。\n",
    "$$\n",
    "\\hat{y} = \\left\\{\n",
    "    \\begin{array}{l}\n",
    "    1 \\qquad (\\boldsymbol{x}^\\top\\boldsymbol{w}>0) \\\\\n",
    "    0 \\qquad (\\boldsymbol{x}^\\top\\boldsymbol{w}\\leqq0)\n",
    "    \\end{array}\n",
    "\\right .\n",
    "$$\n"
   ]
  },
  {
   "cell_type": "markdown",
   "metadata": {},
   "source": [
    "### ロジスティック回帰\n",
    "ここからはパラメータ$\\boldsymbol{w}$を推定していく。ここではロジスティック回帰により線形2値分類を実現していく（回帰とあるが分類に用いられるものである）。このモデルは事例$\\boldsymbol{x}$に対するラベル$\\hat{y}$の条件付確率$p(y\\lvert \\boldsymbol{x})$を以下で求める。\n",
    "$$\n",
    "p(\\hat{y}=1 \\lvert \\boldsymbol{x}) = \\sigma(\\boldsymbol{x}^\\top\\boldsymbol{w}) = \\frac{1}{1 + e^{(-\\boldsymbol{x}^\\top\\boldsymbol{w})}}\\\\\n",
    "p(\\hat{y}=0 \\lvert \\boldsymbol{x}) = 1 - p(\\hat{y}=1 \\lvert \\boldsymbol{x}) = \\sigma(-\\boldsymbol{x}\\boldsymbol{w}) \n",
    "$$\n",
    "また$\\sigma$はシグモイド関数と呼ばれる以下のような関数である。\n",
    "$$\n",
    "\\sigma(x) = \\frac{1}{1 + e^x}\n",
    "$$\n",
    "形状は以下のようになる。"
   ]
  },
  {
   "cell_type": "code",
   "execution_count": 22,
   "metadata": {},
   "outputs": [
    {
     "data": {
      "image/png": "[encoded data removed]",
      "text/plain": [
       "<Figure size 800x500 with 1 Axes>"
      ]
     },
     "metadata": {},
     "output_type": "display_data"
    }
   ],
   "source": [
    "x = np.arange(-10, 10, 0.1)\n",
    "y = 1 / (1 + np.exp(-x))\n",
    "\n",
    "fig = plt.figure(figsize=(8, 5))\n",
    "ax = fig.add_subplot(111)\n",
    "\n",
    "ax.plot(x, y)\n",
    "ax.hlines(1.0, -10, 10, colors='black', linestyles='dashed')\n",
    "ax.hlines(0, -10, 10, colors='black', linestyles='dashed')\n",
    "ax.set_xlim(-10, 10)\n",
    "ax.set_ylim(-0.1, 1.1)\n",
    "ax.set_xlabel(r'$x$', fontsize=15)\n",
    "ax.set_ylabel(r'$\\sigma(x)$', fontsize=15)\n",
    "ax.legend([r'$\\sigma(x) = \\frac{1}{1 + e^(-x)}$'], fontsize=15, loc='upper left', bbox_to_anchor=(0.02, 0.9))\n",
    "plt.show()"
   ]
  },
  {
   "cell_type": "markdown",
   "metadata": {},
   "source": [
    "上図でもわかるようにシグモイド関数は以下のような性質を持つ。\n",
    "$$\n",
    "\\left\\{\n",
    "    \\begin{array}{l}\n",
    "    \\lim_{x \\to \\infty} \\sigma(x) = 1 \\\\\n",
    "    \\lim_{x \\to -\\infty} \\sigma(x) = 0\n",
    "    \\end{array}\n",
    "    \\right .\n",
    "$$\n",
    "上図では(-10, 10)の範囲でプロットしているが、実際のシグモイド関数の定義域は$(-\\infty, \\infty)$である。したがってシグモイド関数は入力を0~1の確率値に変換していることになる。\n"
   ]
  },
  {
   "cell_type": "markdown",
   "metadata": {},
   "source": [
    "### 最尤推定\n",
    "回帰問題では実測値と予測値とのずれを示す指標として残差を使った。しかしこの分類問題においてはこの方法は取れない。なぜなら・・・\n",
    "そこで代わりに行うのが最尤推定で、最小2乗法が残差を最小化させるのに対し、最尤推定は尤度を最大化させる。尤度とはその確率のもっともらしさで、今回な事例$(\\boldsymbol{x}, \\hat{y})$に対する尤度$\\hat{l}_{\\boldsymbol{x},\\hat{y}}(\\boldsymbol{w})$は以下のようになる。\n",
    "$$\n",
    "\\hat{l}_{\\boldsymbol{x},\\hat{y}}(\\boldsymbol{w}) = p(\\hat{y} = y \\lvert \\boldsymbol{x}) = \\left\\{\n",
    "    \\begin{array}{l}\n",
    "    p(\\hat{y} = 1 \\lvert \\boldsymbol{x}) \\quad (y = 1のとき) \\\\\n",
    "    p(\\hat{y} = 0 \\lvert \\boldsymbol{x}) \\quad (y = 0のとき)\n",
    "    \\end{array}\n",
    "    \\right .\n",
    "    = p^y(1 - p)^{y - 1}\n",
    "$$\n",
    "これを使用することで回帰問題の残差のように学習事例をどのくらい正しく再現できているかを定量的にみることができる。具体的には1に近いほど正しく、0に近いほど間違って再現している。  \n",
    "またデータ全体に対する尤度$\\hat{L}_{D}(\\boldsymbol{w})$は\n",
    "$$\n",
    "\\hat{L}_{D}(\\boldsymbol{w}) = \\prod^{n}_{i=1}\\hat{l}_{\\boldsymbol{x}_{i},\\hat{y}_{i}}(\\boldsymbol{w})\n",
    "$$\n",
    "ただし学習データのすべての事例は独立同分布  \n",
    "したがってこの式がこの分類問題の目的関数であり、これを最大化する$\\boldsymbol{w^{*}}$を求めることで、データに合致するモデルパラメータを求めることができる。だが、これは少数の積を繰り返すことになるので、コンピュータで計算を続けていくとじきにアンダーフローを起こす可能性がある。なのでこの尤度の対数をとり、対数尤度を最大化させることを考える。よって最尤推定の目的関数は、\n",
    "$$\n",
    "log\\hat{L}_{D}(\\boldsymbol{w}) = log\\prod^{n}_{i=1}\\hat{l}_{\\boldsymbol{x}_{i},\\hat{y}_{i}}(\\boldsymbol{w}) = \\sum^{N}_{i=1}log\\hat{l}_{\\boldsymbol{x}_{i},\\hat{y}_{i}}(\\boldsymbol{w})\n",
    "$$\n",
    "また回帰問題では目的関数を最小化させることを考えた。よってこの2値分類でも同様に最小化問題へ帰着させるために上式をマイナス倍する。したがって最尤推定の目的関数$\\mathcal{L}^{MLE}_{D}(\\boldsymbol{w})$は以下のようになる。\n",
    "$$\n",
    "\\mathcal{L}_{D}(\\boldsymbol{w}) = -log\\hat{L}_{D} = -\\sum^{N}_{i=1}log\\hat{l}_{\\boldsymbol{x}_{i},\\hat{y}_{i}}(\\boldsymbol{w})\n",
    "$$\n"
   ]
  },
  {
   "cell_type": "markdown",
   "metadata": {},
   "source": [
    "### 確率的勾配降下法\n",
    "目的関数が分かったのでこれまで通り微分値を0としてパラメータを求めていきたいが、この目的関数は凸関数ではなく微分値が0となる解が複数存在するためこの方法は取れない。したがって勾配降下法によるパラメータ推定を行う。しかし、勾配降下法では1回更新するたびにすべてのデータに対する目的関数の勾配を計算するが、データの量が大きいと計算量も大きくなってしまい、時間がとてつもなくかかってしまう。そこで**確率的勾配降下法**を採用する。確率的勾配降下法では1回の学習のたびに1個のデータをランダムに抽出し、このデータのみを使って目的関数の勾配を計算するため計算量が削減できる。"
   ]
  },
  {
   "cell_type": "markdown",
   "metadata": {},
   "source": [
    "### パラメータ推定\n",
    "前節よりパラメータ$\\boldsymbol{w}$の更新式は、\n",
    "$$\n",
    "\\boldsymbol{w}^{(t+1)} = \\boldsymbol{w}^{(t)} + \\eta_{t}\\nabla log\\hat{l}_{\\boldsymbol{x},y}(\\boldsymbol{w}^{(t)})\n",
    "$$\n",
    "したがって事例の対数尤度$log\\hat{l}_{\\boldsymbol{x},y}(\\boldsymbol{w})$の$\\boldsymbol{w}$に関する偏微分を求めることになる。  \n",
    "事例の対数尤度は、\n",
    "$$\n",
    "\\begin{align}\n",
    "log\\hat{l}_{\\boldsymbol{x}, y}(\\boldsymbol{w}) &= log(p^{y}(1 - p^{(y-1)})) \\notag \\\\\n",
    "&= ylogp + (y - 1)log(1 - p) \\notag\n",
    "\\end{align}\n",
    "$$\n",
    "よって\n",
    "$$\n",
    "\\begin{align}\n",
    "\\frac{\\partial}{\\partial \\boldsymbol{w}}log\\hat{l}_{\\boldsymbol{x}, y}(\\boldsymbol{w}) &= \\frac{\\partial}{\\partial \\boldsymbol{w}}\\{ylog\\sigma(\\boldsymbol{x}^\\top \\boldsymbol{w}) + (1 - y)log(1 - \\sigma(\\boldsymbol{x}^\\top \\boldsymbol{w})\\} \\notag \\\\\n",
    "&= \\frac{y}{\\sigma(\\boldsymbol{x}^\\top \\boldsymbol{w})}\\cdot \\frac{\\partial}{\\partial \\boldsymbol{w}} + \\frac{1-y}{1-\\sigma(\\boldsymbol{x}^\\top \\boldsymbol{w})} \\cdot \\frac{\\partial}{\\partial \\boldsymbol{w}}(1-\\sigma(\\boldsymbol{x}^\\top \\boldsymbol{w})) \\notag \\\\ \n",
    "&= (\\frac{y}{\\sigma(\\boldsymbol{x}^\\top \\boldsymbol{w})} - \\frac{1-y}{1-\\sigma(\\boldsymbol{x}^\\top \\boldsymbol{w})}) \\cdot \\frac{\\partial \\sigma(\\boldsymbol{x}^\\top \\boldsymbol{w})}{\\partial \\boldsymbol{w}} \\notag \\\\\n",
    "&= (\\frac{y}{\\sigma(\\boldsymbol{x}^\\top \\boldsymbol{w})} - \\frac{1-y}{1-\\sigma(\\boldsymbol{x}^\\top \\boldsymbol{w})}) \\cdot \\frac{\\partial \\sigma(\\boldsymbol{x}^\\top \\boldsymbol{w})}{\\partial \\boldsymbol{x}^\\top \\boldsymbol{w}} \\cdot \\frac{\\partial \\boldsymbol{x}^\\top \\boldsymbol{w}}{\\partial \\boldsymbol{w}} \n",
    "\\end{align}\n",
    "$$\n",
    "ここで\n",
    "$$\n",
    "\\begin{align}\n",
    "\\frac{\\partial \\sigma(\\boldsymbol{x}^\\top \\boldsymbol{w})}{\\partial \\boldsymbol{x}^\\top \\boldsymbol{w}} &= \\frac{\\partial}{\\partial \\boldsymbol{x}^\\top \\boldsymbol{w}} \\frac{1}{1 + e^{-\\boldsymbol{x}^\\top \\boldsymbol{w}}} \\notag \\\\\n",
    "&= \\frac{e^{-\\boldsymbol{x}^\\top \\boldsymbol{w}}}{1 + e^{-\\boldsymbol{x}^\\top \\boldsymbol{w}}} \\notag \\\\\n",
    "&= (\\frac{1}{\\sigma(\\boldsymbol{x}^\\top \\boldsymbol{w})} - 1)\\{\\sigma(\\boldsymbol{x}^\\top \\boldsymbol{w})\\}^{2} \\notag \\\\\n",
    "&= (1 - \\sigma(\\boldsymbol{x}^\\top \\boldsymbol{w}))\\sigma(\\boldsymbol{x}^\\top \\boldsymbol{w}) \\notag\n",
    "\\end{align}\n",
    "$$\n",
    "これを(1)に代入して、\n",
    "$$\n",
    "\\begin{align}\n",
    "\\frac{\\partial}{\\partial \\boldsymbol{w}}log\\hat{l}_{\\boldsymbol{x}, y}(\\boldsymbol{w}) &= (\\frac{y}{\\sigma(\\boldsymbol{x}^\\top \\boldsymbol{w})} - \\frac{1-y}{1-\\sigma(\\boldsymbol{x}^\\top \\boldsymbol{w})}) \\cdot (1 - \\sigma(\\boldsymbol{x}^\\top \\boldsymbol{w}))\\sigma(\\boldsymbol{x}^\\top \\boldsymbol{w}) \\cdot \\boldsymbol{x}^\\top \\notag \\\\\n",
    "&= \\{y(1 - \\sigma(\\boldsymbol{x}^\\top \\boldsymbol{w})) - (1 - y)\\sigma(\\boldsymbol{x}^\\top \\boldsymbol{w})\\}\\boldsymbol{x}^\\top \\notag \\\\\n",
    "&= (y - \\sigma(\\boldsymbol{x}^\\top \\boldsymbol{w}))\\boldsymbol{x}^\\top \\notag \n",
    "\\end{align}\n",
    "$$\n",
    "以上よりパラメータ更新式は以下のようになる。\n",
    "$$\n",
    "\\boldsymbol{w}^{(t+1)} = \\boldsymbol{w}^{(t)} + \\eta_{t}(y - p^{(t)})\\boldsymbol{x}\n",
    "$$\n"
   ]
  },
  {
   "cell_type": "markdown",
   "metadata": {},
   "source": [
    "### 実装"
   ]
  }
 ],
 "metadata": {
  "kernelspec": {
   "display_name": "Python 3",
   "language": "python",
   "name": "python3"
  },
  "language_info": {
   "codemirror_mode": {
    "name": "ipython",
    "version": 3
   },
   "file_extension": ".py",
   "mimetype": "text/x-python",
   "name": "python",
   "nbconvert_exporter": "python",
   "pygments_lexer": "ipython3",
   "version": "3.12.3"
  }
 },
 "nbformat": 4,
 "nbformat_minor": 2
}
