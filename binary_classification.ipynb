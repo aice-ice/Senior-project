{
 "cells": [
  {
   "cell_type": "code",
   "execution_count": 22,
   "metadata": {},
   "outputs": [],
   "source": [
    "import numpy as np\n",
    "import matplotlib.pyplot as plt\n",
    "import seaborn as sns\n",
    "import pandas as pd\n",
    "from sklearn.preprocessing import LabelEncoder"
   ]
  },
  {
   "cell_type": "markdown",
   "metadata": {},
   "source": [
    "## 2値分類  \n",
    "この章からは主に**分類**について扱っていく。前章までの回帰は連続した値を予測していたのに対し、分類はデータをあらかじめ決めておいたグループのどれにそれが属するかを予測する。この章で扱う2値分類はこのグループが2つのもので、例を挙げると、その人のアンケート結果からその人が男か女かを予測したり、受信したメールが迷惑メールかそうでないかを予測することがあげられる。"
   ]
  },
  {
   "cell_type": "markdown",
   "metadata": {},
   "source": [
    "$d$次元の特徴ベクトルの事例$\\boldsymbol{x}$が与えられたとき、線形モデルのパラメータ$\\boldsymbol{w}$との内積を計算し、その正負でラベル$\\hat{y}$を予測する。\n",
    "線形2値分類のラベル推定式は以下のようになる。\n",
    "$$\n",
    "\\hat{y} = \\left\\{\n",
    "    \\begin{array}{l}\n",
    "    1 \\qquad (\\boldsymbol{x}^\\top\\boldsymbol{w}>0) \\\\\n",
    "    0 \\qquad (\\boldsymbol{x}^\\top\\boldsymbol{w}\\leqq0)\n",
    "    \\end{array}\n",
    "\\right .\n",
    "$$\n"
   ]
  },
  {
   "cell_type": "markdown",
   "metadata": {},
   "source": [
    "### ロジスティック回帰\n",
    "ここからはパラメータ$\\boldsymbol{w}$を推定していく。ここではロジスティック回帰により線形2値分類を実現していく（回帰とあるが分類に用いられるものである）。このモデルは事例$\\boldsymbol{x}$に対するラベル$\\hat{y}$の条件付確率$p(y\\lvert \\boldsymbol{x})$を以下で求める。\n",
    "$$\n",
    "p(\\hat{y}=1 \\lvert \\boldsymbol{x}) = \\sigma(\\boldsymbol{x}^\\top\\boldsymbol{w}) = \\frac{1}{1 + e^{(-\\boldsymbol{x}^\\top\\boldsymbol{w})}}\\\\\n",
    "p(\\hat{y}=0 \\lvert \\boldsymbol{x}) = 1 - p(\\hat{y}=1 \\lvert \\boldsymbol{x}) = \\sigma(-\\boldsymbol{x}\\boldsymbol{w}) \n",
    "$$\n",
    "また$\\sigma$はシグモイド関数と呼ばれる以下のような関数である。\n",
    "$$\n",
    "\\sigma(x) = \\frac{1}{1 + e^x}\n",
    "$$\n",
    "形状は以下のようになる。"
   ]
  },
  {
   "cell_type": "code",
   "execution_count": 37,
   "metadata": {},
   "outputs": [
    {
     "data": {
      "image/png": "[encoded data removed]",
      "text/plain": [
       "<Figure size 800x500 with 1 Axes>"
      ]
     },
     "metadata": {},
     "output_type": "display_data"
    }
   ],
   "source": [
    "def sigmoid(x):\n",
    "    return 1 / (1 + np.exp(-x))\n",
    "\n",
    "x = np.arange(-10, 10, 0.1)\n",
    "y = sigmoid(x)\n",
    "\n",
    "fig = plt.figure(figsize=(8, 5))\n",
    "ax = fig.add_subplot(111)\n",
    "\n",
    "ax.plot(x, y)\n",
    "ax.hlines(1.0, -10, 10, colors='black', linestyles='dashed')\n",
    "ax.hlines(0, -10, 10, colors='black', linestyles='dashed')\n",
    "ax.set_xlim(-10, 10)\n",
    "ax.set_ylim(-0.1, 1.1)\n",
    "ax.set_xlabel(r'$x$', fontsize=15)\n",
    "ax.set_ylabel(r'$\\sigma(x)$', fontsize=15)\n",
    "ax.legend([r'$\\sigma(x) = \\frac{1}{1 + e^(-x)}$'], fontsize=15, loc='upper left', bbox_to_anchor=(0.02, 0.9))\n",
    "plt.show()"
   ]
  },
  {
   "cell_type": "markdown",
   "metadata": {},
   "source": [
    "上図でもわかるようにシグモイド関数は以下のような性質を持つ。\n",
    "$$\n",
    "\\left\\{\n",
    "    \\begin{array}{l}\n",
    "    \\lim_{x \\to \\infty} \\sigma(x) = 1 \\\\\n",
    "    \\lim_{x \\to -\\infty} \\sigma(x) = 0\n",
    "    \\end{array}\n",
    "    \\right .\n",
    "$$\n",
    "上図では(-10, 10)の範囲でプロットしているが、実際のシグモイド関数の定義域は$(-\\infty, \\infty)$である。したがってシグモイド関数は入力を0~1の確率値に変換していることになる。\n"
   ]
  },
  {
   "cell_type": "markdown",
   "metadata": {},
   "source": [
    "### 最尤推定\n",
    "回帰問題では実測値と予測値とのずれを示す指標として残差を使った。しかしこの分類問題においてはこの方法は取れない。なぜなら・・・\n",
    "そこで代わりに行うのが最尤推定で、最小2乗法が残差を最小化させるのに対し、最尤推定は尤度を最大化させる。尤度とはその確率のもっともらしさで、事例$(\\boldsymbol{x}, \\hat{y})$に対する尤度$\\hat{l}_{\\boldsymbol{x},\\hat{y}}(\\boldsymbol{w})$は以下のようになる。\n",
    "$$\n",
    "\\hat{l}_{\\boldsymbol{x},\\hat{y}}(\\boldsymbol{w}) = p(\\hat{y} = y \\lvert \\boldsymbol{x}) = \\left\\{\n",
    "    \\begin{array}{l}\n",
    "    p(\\hat{y} = 1 \\lvert \\boldsymbol{x}) \\quad (y = 1のとき) \\\\\n",
    "    p(\\hat{y} = 0 \\lvert \\boldsymbol{x}) \\quad (y = 0のとき)\n",
    "    \\end{array}\n",
    "    \\right .\n",
    "    = p^y(1 - p)^{y - 1}\n",
    "$$\n",
    "これを使用することで回帰問題の残差のように学習事例をどのくらい正しく再現できているかを定量的にみることができる。具体的には1に近いほど正しく、0に近いほど間違って再現している。  \n",
    "またデータ全体に対する尤度$\\hat{L}_{D}(\\boldsymbol{w})$は\n",
    "$$\n",
    "\\hat{L}_{D}(\\boldsymbol{w}) = \\prod^{n}_{i=1}\\hat{l}_{\\boldsymbol{x}_{i},\\hat{y}_{i}}(\\boldsymbol{w})\n",
    "$$\n",
    "ただし学習データのすべての事例は独立同分布  \n",
    "したがってこの式がこの分類問題の目的関数であり、これを最大化する$\\boldsymbol{w^{*}}$を求めることで、データに合致するモデルパラメータを求めることができる。だが、これは少数の積を繰り返すことになるので、コンピュータで計算を続けていくとじきにアンダーフローを起こす可能性がある。なのでこの尤度の対数をとり、対数尤度を最大化させることを考える。よって最尤推定の目的関数は、\n",
    "$$\n",
    "log\\hat{L}_{D}(\\boldsymbol{w}) = log\\prod^{n}_{i=1}\\hat{l}_{\\boldsymbol{x}_{i},\\hat{y}_{i}}(\\boldsymbol{w}) = \\sum^{N}_{i=1}log\\hat{l}_{\\boldsymbol{x}_{i},\\hat{y}_{i}}(\\boldsymbol{w})\n",
    "$$\n",
    "また回帰問題では目的関数を最小化させることを考えた。よってこの2値分類でも同様に最小化問題へ帰着させるために上式をマイナス倍する。したがって最尤推定の目的関数$\\mathcal{L}^{MLE}_{D}(\\boldsymbol{w})$は以下のようになる。\n",
    "$$\n",
    "\\mathcal{L}_{D}(\\boldsymbol{w}) = -log\\hat{L}_{D} = -\\sum^{N}_{i=1}log\\hat{l}_{\\boldsymbol{x}_{i},\\hat{y}_{i}}(\\boldsymbol{w})\n",
    "$$\n"
   ]
  },
  {
   "cell_type": "markdown",
   "metadata": {},
   "source": [
    "### 確率的勾配降下法\n",
    "目的関数が分かったのでこれまで通り微分値を0としてパラメータを求めていきたいが、この目的関数は凸関数ではなく微分値が0となる解が複数存在するためこの方法は取れない。したがって勾配降下法によるパラメータ推定を行う。しかし、勾配降下法では1回更新するたびにすべてのデータに対する目的関数の勾配を計算するが、データの量が大きいと計算量も大きくなってしまい、時間がとてつもなくかかってしまう。そこで**確率的勾配降下法**を採用する。確率的勾配降下法では1回の学習のたびに1個のデータをランダムに抽出し、このデータのみを使って目的関数の勾配を計算するため計算量が削減できる。"
   ]
  },
  {
   "cell_type": "markdown",
   "metadata": {},
   "source": [
    "### パラメータ推定\n",
    "前節よりパラメータ$\\boldsymbol{w}$の更新式は、\n",
    "$$\n",
    "\\boldsymbol{w}^{(t+1)} = \\boldsymbol{w}^{(t)} + \\eta_{t}\\nabla log\\hat{l}_{\\boldsymbol{x},y}(\\boldsymbol{w}^{(t)})\n",
    "$$\n",
    "したがって事例の対数尤度$log\\hat{l}_{\\boldsymbol{x},y}(\\boldsymbol{w})$の$\\boldsymbol{w}$に関する偏微分を求めることになる。  \n",
    "事例の対数尤度は、\n",
    "$$\n",
    "\\begin{align}\n",
    "log\\hat{l}_{\\boldsymbol{x}, y}(\\boldsymbol{w}) &= log(p^{y}(1 - p^{(y-1)})) \\notag \\\\\n",
    "&= ylogp + (y - 1)log(1 - p) \\notag\n",
    "\\end{align}\n",
    "$$\n",
    "よって\n",
    "$$\n",
    "\\begin{align}\n",
    "\\frac{\\partial}{\\partial \\boldsymbol{w}}log\\hat{l}_{\\boldsymbol{x}, y}(\\boldsymbol{w}) &= \\frac{\\partial}{\\partial \\boldsymbol{w}}\\{ylog\\sigma(\\boldsymbol{x}^\\top \\boldsymbol{w}) + (1 - y)log(1 - \\sigma(\\boldsymbol{x}^\\top \\boldsymbol{w})\\} \\notag \\\\\n",
    "&= \\frac{y}{\\sigma(\\boldsymbol{x}^\\top \\boldsymbol{w})}\\cdot \\frac{\\partial}{\\partial \\boldsymbol{w}}\\sigma{(\\boldsymbol{x}^\\top\\boldsymbol{w})} + \\frac{1-y}{1-\\sigma(\\boldsymbol{x}^\\top \\boldsymbol{w})} \\cdot \\frac{\\partial}{\\partial \\boldsymbol{w}}(1-\\sigma(\\boldsymbol{x}^\\top \\boldsymbol{w})) \\notag \\\\ \n",
    "&= (\\frac{y}{\\sigma(\\boldsymbol{x}^\\top \\boldsymbol{w})} - \\frac{1-y}{1-\\sigma(\\boldsymbol{x}^\\top \\boldsymbol{w})}) \\cdot \\frac{\\partial \\sigma(\\boldsymbol{x}^\\top \\boldsymbol{w})}{\\partial \\boldsymbol{w}} \\notag \\\\\n",
    "&= (\\frac{y}{\\sigma(\\boldsymbol{x}^\\top \\boldsymbol{w})} - \\frac{1-y}{1-\\sigma(\\boldsymbol{x}^\\top \\boldsymbol{w})}) \\cdot \\frac{\\partial \\sigma(\\boldsymbol{x}^\\top \\boldsymbol{w})}{\\partial \\boldsymbol{x}^\\top \\boldsymbol{w}} \\cdot \\frac{\\partial \\boldsymbol{x}^\\top \\boldsymbol{w}}{\\partial \\boldsymbol{w}} \n",
    "\\end{align}\n",
    "$$\n",
    "ここで\n",
    "$$\n",
    "\\begin{align}\n",
    "\\frac{\\partial \\sigma(\\boldsymbol{x}^\\top \\boldsymbol{w})}{\\partial \\boldsymbol{x}^\\top \\boldsymbol{w}} &= \\frac{\\partial}{\\partial \\boldsymbol{x}^\\top \\boldsymbol{w}} \\frac{1}{1 + e^{-\\boldsymbol{x}^\\top \\boldsymbol{w}}} \\notag \\\\\n",
    "&= \\frac{e^{-\\boldsymbol{x}^\\top \\boldsymbol{w}}}{1 + e^{-\\boldsymbol{x}^\\top \\boldsymbol{w}}} \\notag \\\\\n",
    "&= (\\frac{1}{\\sigma(\\boldsymbol{x}^\\top \\boldsymbol{w})} - 1)\\{\\sigma(\\boldsymbol{x}^\\top \\boldsymbol{w})\\}^{2} \\notag \\\\\n",
    "&= (1 - \\sigma(\\boldsymbol{x}^\\top \\boldsymbol{w}))\\sigma(\\boldsymbol{x}^\\top \\boldsymbol{w}) \\notag\n",
    "\\end{align}\n",
    "$$\n",
    "これを(1)に代入して、\n",
    "$$\n",
    "\\begin{align}\n",
    "\\frac{\\partial}{\\partial \\boldsymbol{w}}log\\hat{l}_{\\boldsymbol{x}, y}(\\boldsymbol{w}) &= (\\frac{y}{\\sigma(\\boldsymbol{x}^\\top \\boldsymbol{w})} - \\frac{1-y}{1-\\sigma(\\boldsymbol{x}^\\top \\boldsymbol{w})}) \\cdot (1 - \\sigma(\\boldsymbol{x}^\\top \\boldsymbol{w}))\\sigma(\\boldsymbol{x}^\\top \\boldsymbol{w}) \\cdot \\boldsymbol{x}^\\top \\notag \\\\\n",
    "&= \\{y(1 - \\sigma(\\boldsymbol{x}^\\top \\boldsymbol{w})) - (1 - y)\\sigma(\\boldsymbol{x}^\\top \\boldsymbol{w})\\}\\boldsymbol{x}^\\top \\notag \\\\\n",
    "&= (y - \\sigma(\\boldsymbol{x}^\\top \\boldsymbol{w}))\\boldsymbol{x}^\\top \\notag \n",
    "\\end{align}\n",
    "$$\n",
    "以上よりパラメータ更新式は以下のようになる。\n",
    "$$\n",
    "\\boldsymbol{w}^{(t+1)} = \n",
    "\\boldsymbol{w}^{(t)} + \\eta_{t}(y - \\sigma(\\boldsymbol{x}^\\top\\boldsymbol{w}^{(t)}))\\boldsymbol{x}\n",
    "$$\n",
    "\n"
   ]
  },
  {
   "cell_type": "markdown",
   "metadata": {},
   "source": [
    "### 実装\n",
    "パラメータ更新式を導出できたのでこれを実装していく。\n"
   ]
  },
  {
   "cell_type": "code",
   "execution_count": 30,
   "metadata": {},
   "outputs": [
    {
     "name": "stderr",
     "output_type": "stream",
     "text": [
      "C:\\Users\\eu21052\\AppData\\Local\\Temp\\ipykernel_12508\\3721846658.py:6: SettingWithCopyWarning: \n",
      "A value is trying to be set on a copy of a slice from a DataFrame.\n",
      "Try using .loc[row_indexer,col_indexer] = value instead\n",
      "\n",
      "See the caveats in the documentation: https://pandas.pydata.org/pandas-docs/stable/user_guide/indexing.html#returning-a-view-versus-a-copy\n",
      "  df['species'] = le.transform(df['species'])\n"
     ]
    },
    {
     "data": {
      "text/html": [
       "<div>\n",
       "<style scoped>\n",
       "    .dataframe tbody tr th:only-of-type {\n",
       "        vertical-align: middle;\n",
       "    }\n",
       "\n",
       "    .dataframe tbody tr th {\n",
       "        vertical-align: top;\n",
       "    }\n",
       "\n",
       "    .dataframe thead th {\n",
       "        text-align: right;\n",
       "    }\n",
       "</style>\n",
       "<table border=\"1\" class=\"dataframe\">\n",
       "  <thead>\n",
       "    <tr style=\"text-align: right;\">\n",
       "      <th></th>\n",
       "      <th>sepal_length</th>\n",
       "      <th>sepal_width</th>\n",
       "      <th>petal_length</th>\n",
       "      <th>petal_width</th>\n",
       "      <th>species</th>\n",
       "    </tr>\n",
       "  </thead>\n",
       "  <tbody>\n",
       "    <tr>\n",
       "      <th>count</th>\n",
       "      <td>100.000000</td>\n",
       "      <td>100.000000</td>\n",
       "      <td>100.000000</td>\n",
       "      <td>100.000000</td>\n",
       "      <td>100.000000</td>\n",
       "    </tr>\n",
       "    <tr>\n",
       "      <th>mean</th>\n",
       "      <td>5.471000</td>\n",
       "      <td>3.099000</td>\n",
       "      <td>2.861000</td>\n",
       "      <td>0.786000</td>\n",
       "      <td>0.500000</td>\n",
       "    </tr>\n",
       "    <tr>\n",
       "      <th>std</th>\n",
       "      <td>0.641698</td>\n",
       "      <td>0.478739</td>\n",
       "      <td>1.449549</td>\n",
       "      <td>0.565153</td>\n",
       "      <td>0.502519</td>\n",
       "    </tr>\n",
       "    <tr>\n",
       "      <th>min</th>\n",
       "      <td>4.300000</td>\n",
       "      <td>2.000000</td>\n",
       "      <td>1.000000</td>\n",
       "      <td>0.100000</td>\n",
       "      <td>0.000000</td>\n",
       "    </tr>\n",
       "    <tr>\n",
       "      <th>25%</th>\n",
       "      <td>5.000000</td>\n",
       "      <td>2.800000</td>\n",
       "      <td>1.500000</td>\n",
       "      <td>0.200000</td>\n",
       "      <td>0.000000</td>\n",
       "    </tr>\n",
       "    <tr>\n",
       "      <th>50%</th>\n",
       "      <td>5.400000</td>\n",
       "      <td>3.050000</td>\n",
       "      <td>2.450000</td>\n",
       "      <td>0.800000</td>\n",
       "      <td>0.500000</td>\n",
       "    </tr>\n",
       "    <tr>\n",
       "      <th>75%</th>\n",
       "      <td>5.900000</td>\n",
       "      <td>3.400000</td>\n",
       "      <td>4.325000</td>\n",
       "      <td>1.300000</td>\n",
       "      <td>1.000000</td>\n",
       "    </tr>\n",
       "    <tr>\n",
       "      <th>max</th>\n",
       "      <td>7.000000</td>\n",
       "      <td>4.400000</td>\n",
       "      <td>5.100000</td>\n",
       "      <td>1.800000</td>\n",
       "      <td>1.000000</td>\n",
       "    </tr>\n",
       "  </tbody>\n",
       "</table>\n",
       "</div>"
      ],
      "text/plain": [
       "       sepal_length  sepal_width  petal_length  petal_width     species\n",
       "count    100.000000   100.000000    100.000000   100.000000  100.000000\n",
       "mean       5.471000     3.099000      2.861000     0.786000    0.500000\n",
       "std        0.641698     0.478739      1.449549     0.565153    0.502519\n",
       "min        4.300000     2.000000      1.000000     0.100000    0.000000\n",
       "25%        5.000000     2.800000      1.500000     0.200000    0.000000\n",
       "50%        5.400000     3.050000      2.450000     0.800000    0.500000\n",
       "75%        5.900000     3.400000      4.325000     1.300000    1.000000\n",
       "max        7.000000     4.400000      5.100000     1.800000    1.000000"
      ]
     },
     "execution_count": 30,
     "metadata": {},
     "output_type": "execute_result"
    }
   ],
   "source": [
    "all_df = sns.load_dataset('iris')\n",
    "df = all_df[all_df['species'] != 'virginica']\n",
    "\n",
    "le = LabelEncoder()\n",
    "le = le.fit(df['species'])\n",
    "df['species'] = le.transform(df['species'])\n",
    "\n",
    "# df[df.isnull()].count()\n",
    "df.describe()\n"
   ]
  },
  {
   "cell_type": "code",
   "execution_count": 134,
   "metadata": {},
   "outputs": [],
   "source": [
    "epochs = 10000000\n",
    "eta0 = 0.001\n",
    "eps = 2e-3\n",
    "\n",
    "x = df[['sepal_length', 'sepal_width', 'petal_length', 'petal_width']]\n",
    "y = df['species']\n",
    "w = np.zeros(x.shape[1])\n",
    "\n",
    "\n",
    "def sdg(x, y, w, eta0, epochs, eps):\n",
    "    for t in range(epochs):\n",
    "        eta = eta0 / np.sqrt(1+t)\n",
    "        i = np.random.randint(0, x.shape[0])\n",
    "        grad = eta0 * (y[i] - sigmoid(np.dot(w, x.iloc[i]))) * x.iloc[i]\n",
    "        if np.sum(np.abs(grad)) < eps:\n",
    "            break\n",
    "        w += eta * grad\n",
    "        \n",
    "        \n",
    "        return t\n",
    "\n"
   ]
  },
  {
   "cell_type": "code",
   "execution_count": 120,
   "metadata": {},
   "outputs": [
    {
     "data": {
      "text/plain": [
       "0"
      ]
     },
     "execution_count": 120,
     "metadata": {},
     "output_type": "execute_result"
    }
   ],
   "source": [
    "sdg(x, y, w, eta0, epochs, eps)"
   ]
  },
  {
   "cell_type": "code",
   "execution_count": 110,
   "metadata": {},
   "outputs": [
    {
     "data": {
      "text/plain": [
       "0.5"
      ]
     },
     "execution_count": 110,
     "metadata": {},
     "output_type": "execute_result"
    }
   ],
   "source": [
    "sigmoid(np.dot(x.iloc[50], w))  "
   ]
  },
  {
   "cell_type": "code",
   "execution_count": null,
   "metadata": {},
   "outputs": [],
   "source": [
    "for t in range(epochs):\n",
    "    eta = eta0 / np.sqrt(1+t)\n",
    "    i = np.random.randint(0, x.shape[0])\n",
    "    grad = eta0 * (y[i] - sigmoid(np.dot(w, x.iloc[i]))) * x.iloc[i]\n",
    "    if np.sum(np.abs(grad)) < eps:\n",
    "        break\n",
    "    w += eta * grad\n",
    "\n",
    "t"
   ]
  },
  {
   "cell_type": "code",
   "execution_count": 133,
   "metadata": {},
   "outputs": [
    {
     "data": {
      "text/plain": [
       "0.0032095658408043174"
      ]
     },
     "execution_count": 133,
     "metadata": {},
     "output_type": "execute_result"
    }
   ],
   "source": [
    "np.dot(x.iloc[50], w)"
   ]
  },
  {
   "cell_type": "markdown",
   "metadata": {},
   "source": [
    "### モデルの評価\n",
    "分類モデルが分類する組み合わせは以下のようになる。\n",
    "\n",
    "|混同行列            |                     |                    | \n",
    "| ------------- | ------------------- | ------------------ | \n",
    "| 実測値\\予測値 | Positive            | Negative           | \n",
    "| Psitive       | 真陽性:TP(True Positive)   | 偽陽性:FN(False Negative) | \n",
    "| Negative      | 偽陰性:FP(False Positive)  | 真陰性:TN(True Negative)  | \n",
    "\n",
    "- TP:モデルが$\\hat{y}=1$と予測したもののうち$y=1$出会った件数\n",
    "- FP:モデルが$\\hat{y}=1$と予測したもののうち$y=0$出会った件数\n",
    "- FN:モデルが$\\hat{y}=0$と予測したもののうち$y=1$出会った件数\n",
    "- TN:モデルが$\\hat{y}=0$と予測したもののうち$y=0$出会った件数  \n",
    "\n",
    "これらの値を使い分類モデルの評価を行うための指標を見ていく。\n",
    "##### 正解率(Accuracy)\n",
    "全データのうち正しく分類できた割合。\n",
    "$$\n",
    "(Accuracy) = \\frac{TP + TN}{TP + JP + JN + TN}\n",
    "$$\n",
    "##### 適合率(Precision)\n",
    "$\\hat{y}=1$と分類したもののうち$y=1$であったもの。\n",
    "$$\n",
    "(Precision) = \\frac{TP}{TP + JP}\n",
    "$$\n",
    "##### 再現率(Recall)\n",
    "$y=1$であるもののうち$\\hat{y}=1$であるもの。\n",
    "$$\n",
    "(Recall) = \\frac{TP}{TP + FP}\n",
    "$$\n",
    "##### F値(F-score)\n",
    "適合率と再現率の調和平均\n",
    "$$\n",
    "(F-score) = \\frac{2\\times (Precision)\\times (Recall)}{(Precision) + (Recall)}\n",
    "$$"
   ]
  }
 ],
 "metadata": {
  "kernelspec": {
   "display_name": "Python 3",
   "language": "python",
   "name": "python3"
  },
  "language_info": {
   "codemirror_mode": {
    "name": "ipython",
    "version": 3
   },
   "file_extension": ".py",
   "mimetype": "text/x-python",
   "name": "python",
   "nbconvert_exporter": "python",
   "pygments_lexer": "ipython3",
   "version": "3.12.3"
  }
 },
 "nbformat": 4,
 "nbformat_minor": 2
}
